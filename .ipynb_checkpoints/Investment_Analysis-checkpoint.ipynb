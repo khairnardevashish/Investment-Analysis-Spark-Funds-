{
 "cells": [
  {
   "cell_type": "code",
   "execution_count": 1,
   "metadata": {},
   "outputs": [],
   "source": [
    "import pandas as pd\n",
    "import numpy as np\n",
    "import seaborn as sns\n",
    "import matplotlib.pyplot as plt"
   ]
  },
  {
   "cell_type": "code",
   "execution_count": 2,
   "metadata": {},
   "outputs": [],
   "source": [
    "#Importing Data in to dataframes\n",
    "companies = pd.read_csv(\"Datasets/companies.csv\", encoding='palmos')\n",
    "round2 = pd.read_csv(\"Datasets/rounds2.csv\", encoding='palmos')"
   ]
  },
  {
   "cell_type": "code",
   "execution_count": 67,
   "metadata": {},
   "outputs": [
    {
     "name": "stdout",
     "output_type": "stream",
     "text": [
      "(114949, 6)\n",
      "(66368, 10)\n"
     ]
    },
    {
     "data": {
      "text/html": [
       "<div>\n",
       "<style scoped>\n",
       "    .dataframe tbody tr th:only-of-type {\n",
       "        vertical-align: middle;\n",
       "    }\n",
       "\n",
       "    .dataframe tbody tr th {\n",
       "        vertical-align: top;\n",
       "    }\n",
       "\n",
       "    .dataframe thead th {\n",
       "        text-align: right;\n",
       "    }\n",
       "</style>\n",
       "<table border=\"1\" class=\"dataframe\">\n",
       "  <thead>\n",
       "    <tr style=\"text-align: right;\">\n",
       "      <th></th>\n",
       "      <th>permalink</th>\n",
       "      <th>name</th>\n",
       "      <th>homepage_url</th>\n",
       "      <th>category_list</th>\n",
       "      <th>status</th>\n",
       "      <th>country_code</th>\n",
       "      <th>state_code</th>\n",
       "      <th>region</th>\n",
       "      <th>city</th>\n",
       "      <th>founded_at</th>\n",
       "    </tr>\n",
       "  </thead>\n",
       "  <tbody>\n",
       "    <tr>\n",
       "      <th>0</th>\n",
       "      <td>/organization/-fame</td>\n",
       "      <td>#fame</td>\n",
       "      <td>http://livfame.com</td>\n",
       "      <td>Media</td>\n",
       "      <td>operating</td>\n",
       "      <td>IND</td>\n",
       "      <td>16</td>\n",
       "      <td>Mumbai</td>\n",
       "      <td>Mumbai</td>\n",
       "      <td>NaN</td>\n",
       "    </tr>\n",
       "    <tr>\n",
       "      <th>1</th>\n",
       "      <td>/organization/-qounter</td>\n",
       "      <td>:Qounter</td>\n",
       "      <td>http://www.qounter.com</td>\n",
       "      <td>Application Platforms|Real Time|Social Network...</td>\n",
       "      <td>operating</td>\n",
       "      <td>USA</td>\n",
       "      <td>DE</td>\n",
       "      <td>DE - Other</td>\n",
       "      <td>Delaware City</td>\n",
       "      <td>04-09-2014</td>\n",
       "    </tr>\n",
       "    <tr>\n",
       "      <th>2</th>\n",
       "      <td>/organization/-the-one-of-them-inc-</td>\n",
       "      <td>(THE) ONE of THEM,Inc.</td>\n",
       "      <td>http://oneofthem.jp</td>\n",
       "      <td>Apps|Games|Mobile</td>\n",
       "      <td>operating</td>\n",
       "      <td>NaN</td>\n",
       "      <td>NaN</td>\n",
       "      <td>NaN</td>\n",
       "      <td>NaN</td>\n",
       "      <td>NaN</td>\n",
       "    </tr>\n",
       "    <tr>\n",
       "      <th>3</th>\n",
       "      <td>/organization/0-6-com</td>\n",
       "      <td>0-6.com</td>\n",
       "      <td>http://www.0-6.com</td>\n",
       "      <td>Curated Web</td>\n",
       "      <td>operating</td>\n",
       "      <td>CHN</td>\n",
       "      <td>22</td>\n",
       "      <td>Beijing</td>\n",
       "      <td>Beijing</td>\n",
       "      <td>01-01-2007</td>\n",
       "    </tr>\n",
       "    <tr>\n",
       "      <th>4</th>\n",
       "      <td>/organization/004-technologies</td>\n",
       "      <td>004 Technologies</td>\n",
       "      <td>http://004gmbh.de/en/004-interact</td>\n",
       "      <td>Software</td>\n",
       "      <td>operating</td>\n",
       "      <td>USA</td>\n",
       "      <td>IL</td>\n",
       "      <td>Springfield, Illinois</td>\n",
       "      <td>Champaign</td>\n",
       "      <td>01-01-2010</td>\n",
       "    </tr>\n",
       "  </tbody>\n",
       "</table>\n",
       "</div>"
      ],
      "text/plain": [
       "                             permalink                    name  \\\n",
       "0                  /organization/-fame                   #fame   \n",
       "1               /organization/-qounter                :Qounter   \n",
       "2  /organization/-the-one-of-them-inc-  (THE) ONE of THEM,Inc.   \n",
       "3                /organization/0-6-com                 0-6.com   \n",
       "4       /organization/004-technologies        004 Technologies   \n",
       "\n",
       "                        homepage_url  \\\n",
       "0                 http://livfame.com   \n",
       "1             http://www.qounter.com   \n",
       "2                http://oneofthem.jp   \n",
       "3                 http://www.0-6.com   \n",
       "4  http://004gmbh.de/en/004-interact   \n",
       "\n",
       "                                       category_list     status country_code  \\\n",
       "0                                              Media  operating          IND   \n",
       "1  Application Platforms|Real Time|Social Network...  operating          USA   \n",
       "2                                  Apps|Games|Mobile  operating          NaN   \n",
       "3                                        Curated Web  operating          CHN   \n",
       "4                                           Software  operating          USA   \n",
       "\n",
       "  state_code                 region           city  founded_at  \n",
       "0         16                 Mumbai         Mumbai         NaN  \n",
       "1         DE             DE - Other  Delaware City  04-09-2014  \n",
       "2        NaN                    NaN            NaN         NaN  \n",
       "3         22                Beijing        Beijing  01-01-2007  \n",
       "4         IL  Springfield, Illinois      Champaign  01-01-2010  "
      ]
     },
     "execution_count": 67,
     "metadata": {},
     "output_type": "execute_result"
    }
   ],
   "source": [
    "#Data basic info\n",
    "print(round2.shape)\n",
    "print(companies.shape)"
   ]
  },
  {
   "cell_type": "markdown",
   "metadata": {},
   "source": [
    "### Checkpoint 1: Data Cleaning 1"
   ]
  },
  {
   "cell_type": "markdown",
   "metadata": {},
   "source": [
    "##### How many unique companies are present in rounds2?"
   ]
  },
  {
   "cell_type": "code",
   "execution_count": 4,
   "metadata": {},
   "outputs": [],
   "source": [
    "#Renaming column of round 2 from company_permalink -> permalink\n",
    "round2.rename(columns={\"company_permalink\": \"permalink\"}, inplace=True)\n",
    "\n",
    "#Converting permalink to lower case as there are cases where it has same value but case sensitive\n",
    "companies.permalink = companies.permalink.apply(lambda x : x.lower())\n",
    "round2.permalink = round2.permalink.apply(lambda x : x.lower())"
   ]
  },
  {
   "cell_type": "code",
   "execution_count": 5,
   "metadata": {},
   "outputs": [
    {
     "name": "stdout",
     "output_type": "stream",
     "text": [
      "There are total  66368  unique companies in round2.\n"
     ]
    }
   ],
   "source": [
    "print(\"There are total \", round2.permalink.unique().shape[0], \" unique companies in round2.\")"
   ]
  },
  {
   "cell_type": "markdown",
   "metadata": {},
   "source": [
    "##### How many unique companies are present in companies?"
   ]
  },
  {
   "cell_type": "code",
   "execution_count": 6,
   "metadata": {},
   "outputs": [
    {
     "name": "stdout",
     "output_type": "stream",
     "text": [
      "There are total  66368  unique companies in companies table.\n"
     ]
    }
   ],
   "source": [
    "print(\"There are total \", companies.permalink.unique().shape[0], \" unique companies in companies table.\")"
   ]
  },
  {
   "cell_type": "markdown",
   "metadata": {},
   "source": [
    "##### In the companies data frame, which column can be used as the unique key for each company? \n",
    "--> permalink"
   ]
  },
  {
   "cell_type": "markdown",
   "metadata": {},
   "source": [
    "##### Are there any companies in the rounds2 file which are not present in companies? "
   ]
  },
  {
   "cell_type": "code",
   "execution_count": 7,
   "metadata": {},
   "outputs": [
    {
     "data": {
      "text/plain": [
       "True    66368\n",
       "Name: permalink, dtype: int64"
      ]
     },
     "execution_count": 7,
     "metadata": {},
     "output_type": "execute_result"
    }
   ],
   "source": [
    "companies[\"permalink\"].isin(round2[\"permalink\"]).value_counts()"
   ]
  },
  {
   "cell_type": "markdown",
   "metadata": {},
   "source": [
    "As number of unique companies and the number of companies in the round2 which are in comapnies table is same, there are NO missing companies which are in round2 but not in companies."
   ]
  },
  {
   "cell_type": "markdown",
   "metadata": {},
   "source": [
    "##### Merge the two data frames so that all variables (columns) in the companies frame are added to the rounds2 data frame. Name the merged frame master_frame. How many observations are present in master_frame?"
   ]
  },
  {
   "cell_type": "code",
   "execution_count": 8,
   "metadata": {},
   "outputs": [
    {
     "name": "stdout",
     "output_type": "stream",
     "text": [
      "(114949, 15)\n"
     ]
    },
    {
     "data": {
      "text/html": [
       "<div>\n",
       "<style scoped>\n",
       "    .dataframe tbody tr th:only-of-type {\n",
       "        vertical-align: middle;\n",
       "    }\n",
       "\n",
       "    .dataframe tbody tr th {\n",
       "        vertical-align: top;\n",
       "    }\n",
       "\n",
       "    .dataframe thead th {\n",
       "        text-align: right;\n",
       "    }\n",
       "</style>\n",
       "<table border=\"1\" class=\"dataframe\">\n",
       "  <thead>\n",
       "    <tr style=\"text-align: right;\">\n",
       "      <th></th>\n",
       "      <th>permalink</th>\n",
       "      <th>funding_round_permalink</th>\n",
       "      <th>funding_round_type</th>\n",
       "      <th>funding_round_code</th>\n",
       "      <th>funded_at</th>\n",
       "      <th>raised_amount_usd</th>\n",
       "      <th>name</th>\n",
       "      <th>homepage_url</th>\n",
       "      <th>category_list</th>\n",
       "      <th>status</th>\n",
       "      <th>country_code</th>\n",
       "      <th>state_code</th>\n",
       "      <th>region</th>\n",
       "      <th>city</th>\n",
       "      <th>founded_at</th>\n",
       "    </tr>\n",
       "  </thead>\n",
       "  <tbody>\n",
       "    <tr>\n",
       "      <th>0</th>\n",
       "      <td>/organization/-fame</td>\n",
       "      <td>/funding-round/9a01d05418af9f794eebff7ace91f638</td>\n",
       "      <td>venture</td>\n",
       "      <td>B</td>\n",
       "      <td>05-01-2015</td>\n",
       "      <td>10000000.0</td>\n",
       "      <td>#fame</td>\n",
       "      <td>http://livfame.com</td>\n",
       "      <td>Media</td>\n",
       "      <td>operating</td>\n",
       "      <td>IND</td>\n",
       "      <td>16</td>\n",
       "      <td>Mumbai</td>\n",
       "      <td>Mumbai</td>\n",
       "      <td>NaN</td>\n",
       "    </tr>\n",
       "    <tr>\n",
       "      <th>1</th>\n",
       "      <td>/organization/-qounter</td>\n",
       "      <td>/funding-round/22dacff496eb7acb2b901dec1dfe5633</td>\n",
       "      <td>venture</td>\n",
       "      <td>A</td>\n",
       "      <td>14-10-2014</td>\n",
       "      <td>NaN</td>\n",
       "      <td>:Qounter</td>\n",
       "      <td>http://www.qounter.com</td>\n",
       "      <td>Application Platforms|Real Time|Social Network...</td>\n",
       "      <td>operating</td>\n",
       "      <td>USA</td>\n",
       "      <td>DE</td>\n",
       "      <td>DE - Other</td>\n",
       "      <td>Delaware City</td>\n",
       "      <td>04-09-2014</td>\n",
       "    </tr>\n",
       "    <tr>\n",
       "      <th>2</th>\n",
       "      <td>/organization/-qounter</td>\n",
       "      <td>/funding-round/b44fbb94153f6cdef13083530bb48030</td>\n",
       "      <td>seed</td>\n",
       "      <td>NaN</td>\n",
       "      <td>01-03-2014</td>\n",
       "      <td>700000.0</td>\n",
       "      <td>:Qounter</td>\n",
       "      <td>http://www.qounter.com</td>\n",
       "      <td>Application Platforms|Real Time|Social Network...</td>\n",
       "      <td>operating</td>\n",
       "      <td>USA</td>\n",
       "      <td>DE</td>\n",
       "      <td>DE - Other</td>\n",
       "      <td>Delaware City</td>\n",
       "      <td>04-09-2014</td>\n",
       "    </tr>\n",
       "    <tr>\n",
       "      <th>3</th>\n",
       "      <td>/organization/-the-one-of-them-inc-</td>\n",
       "      <td>/funding-round/650b8f704416801069bb178a1418776b</td>\n",
       "      <td>venture</td>\n",
       "      <td>B</td>\n",
       "      <td>30-01-2014</td>\n",
       "      <td>3406878.0</td>\n",
       "      <td>(THE) ONE of THEM,Inc.</td>\n",
       "      <td>http://oneofthem.jp</td>\n",
       "      <td>Apps|Games|Mobile</td>\n",
       "      <td>operating</td>\n",
       "      <td>NaN</td>\n",
       "      <td>NaN</td>\n",
       "      <td>NaN</td>\n",
       "      <td>NaN</td>\n",
       "      <td>NaN</td>\n",
       "    </tr>\n",
       "    <tr>\n",
       "      <th>4</th>\n",
       "      <td>/organization/0-6-com</td>\n",
       "      <td>/funding-round/5727accaeaa57461bd22a9bdd945382d</td>\n",
       "      <td>venture</td>\n",
       "      <td>A</td>\n",
       "      <td>19-03-2008</td>\n",
       "      <td>2000000.0</td>\n",
       "      <td>0-6.com</td>\n",
       "      <td>http://www.0-6.com</td>\n",
       "      <td>Curated Web</td>\n",
       "      <td>operating</td>\n",
       "      <td>CHN</td>\n",
       "      <td>22</td>\n",
       "      <td>Beijing</td>\n",
       "      <td>Beijing</td>\n",
       "      <td>01-01-2007</td>\n",
       "    </tr>\n",
       "  </tbody>\n",
       "</table>\n",
       "</div>"
      ],
      "text/plain": [
       "                             permalink  \\\n",
       "0                  /organization/-fame   \n",
       "1               /organization/-qounter   \n",
       "2               /organization/-qounter   \n",
       "3  /organization/-the-one-of-them-inc-   \n",
       "4                /organization/0-6-com   \n",
       "\n",
       "                           funding_round_permalink funding_round_type  \\\n",
       "0  /funding-round/9a01d05418af9f794eebff7ace91f638            venture   \n",
       "1  /funding-round/22dacff496eb7acb2b901dec1dfe5633            venture   \n",
       "2  /funding-round/b44fbb94153f6cdef13083530bb48030               seed   \n",
       "3  /funding-round/650b8f704416801069bb178a1418776b            venture   \n",
       "4  /funding-round/5727accaeaa57461bd22a9bdd945382d            venture   \n",
       "\n",
       "  funding_round_code   funded_at  raised_amount_usd                    name  \\\n",
       "0                  B  05-01-2015         10000000.0                   #fame   \n",
       "1                  A  14-10-2014                NaN                :Qounter   \n",
       "2                NaN  01-03-2014           700000.0                :Qounter   \n",
       "3                  B  30-01-2014          3406878.0  (THE) ONE of THEM,Inc.   \n",
       "4                  A  19-03-2008          2000000.0                 0-6.com   \n",
       "\n",
       "             homepage_url                                      category_list  \\\n",
       "0      http://livfame.com                                              Media   \n",
       "1  http://www.qounter.com  Application Platforms|Real Time|Social Network...   \n",
       "2  http://www.qounter.com  Application Platforms|Real Time|Social Network...   \n",
       "3     http://oneofthem.jp                                  Apps|Games|Mobile   \n",
       "4      http://www.0-6.com                                        Curated Web   \n",
       "\n",
       "      status country_code state_code      region           city  founded_at  \n",
       "0  operating          IND         16      Mumbai         Mumbai         NaN  \n",
       "1  operating          USA         DE  DE - Other  Delaware City  04-09-2014  \n",
       "2  operating          USA         DE  DE - Other  Delaware City  04-09-2014  \n",
       "3  operating          NaN        NaN         NaN            NaN         NaN  \n",
       "4  operating          CHN         22     Beijing        Beijing  01-01-2007  "
      ]
     },
     "execution_count": 8,
     "metadata": {},
     "output_type": "execute_result"
    }
   ],
   "source": [
    "master_frame = pd.merge(round2, companies, on=\"permalink\")\n",
    "print(master_frame.shape)\n",
    "master_frame.head()"
   ]
  },
  {
   "cell_type": "markdown",
   "metadata": {},
   "source": [
    "### Data Cleaning in Master Dataframe"
   ]
  },
  {
   "cell_type": "code",
   "execution_count": 9,
   "metadata": {},
   "outputs": [
    {
     "data": {
      "text/plain": [
       "permalink                      0\n",
       "funding_round_permalink        0\n",
       "funding_round_type             0\n",
       "funding_round_code         83809\n",
       "funded_at                      0\n",
       "raised_amount_usd          19990\n",
       "name                           1\n",
       "homepage_url                6134\n",
       "category_list               3410\n",
       "status                         0\n",
       "country_code                8678\n",
       "state_code                 10946\n",
       "region                     10167\n",
       "city                       10164\n",
       "founded_at                 20521\n",
       "dtype: int64"
      ]
     },
     "execution_count": 9,
     "metadata": {},
     "output_type": "execute_result"
    }
   ],
   "source": [
    "master_frame.isnull().sum()"
   ]
  },
  {
   "cell_type": "code",
   "execution_count": 10,
   "metadata": {},
   "outputs": [
    {
     "data": {
      "text/plain": [
       "array(['venture', 'seed', 'undisclosed', 'equity_crowdfunding',\n",
       "       'convertible_note', 'private_equity', 'debt_financing', 'angel',\n",
       "       'grant', 'secondary_market', 'post_ipo_equity', 'post_ipo_debt',\n",
       "       'product_crowdfunding', 'non_equity_assistance'], dtype=object)"
      ]
     },
     "execution_count": 10,
     "metadata": {},
     "output_type": "execute_result"
    }
   ],
   "source": [
    "master_frame[\"funding_round_type\"].unique()"
   ]
  },
  {
   "cell_type": "code",
   "execution_count": 11,
   "metadata": {},
   "outputs": [
    {
     "data": {
      "text/plain": [
       "permalink                      0\n",
       "funding_round_permalink        0\n",
       "funding_round_type             0\n",
       "funding_round_code         80885\n",
       "funded_at                      0\n",
       "raised_amount_usd          17624\n",
       "name                           1\n",
       "homepage_url                5163\n",
       "category_list                  0\n",
       "status                         0\n",
       "country_code                7007\n",
       "state_code                  9220\n",
       "region                      8462\n",
       "city                        8459\n",
       "founded_at                 18691\n",
       "dtype: int64"
      ]
     },
     "execution_count": 11,
     "metadata": {},
     "output_type": "execute_result"
    }
   ],
   "source": [
    "master_frame = master_frame[pd.notnull(master_frame[\"category_list\"])]\n",
    "master_frame.isnull().sum()"
   ]
  },
  {
   "cell_type": "code",
   "execution_count": 12,
   "metadata": {},
   "outputs": [
    {
     "data": {
      "text/plain": [
       "permalink                      0\n",
       "funding_round_permalink        0\n",
       "funding_round_type             0\n",
       "funding_round_code         75198\n",
       "funded_at                      0\n",
       "raised_amount_usd          16003\n",
       "name                           1\n",
       "homepage_url                4220\n",
       "category_list                  0\n",
       "status                         0\n",
       "country_code                   0\n",
       "state_code                  2213\n",
       "region                      1455\n",
       "city                        1452\n",
       "founded_at                 16063\n",
       "dtype: int64"
      ]
     },
     "execution_count": 12,
     "metadata": {},
     "output_type": "execute_result"
    }
   ],
   "source": [
    "master_frame = master_frame[pd.notnull(master_frame[\"country_code\"])]\n",
    "master_frame.isnull().sum()"
   ]
  },
  {
   "cell_type": "code",
   "execution_count": 13,
   "metadata": {},
   "outputs": [
    {
     "data": {
      "text/plain": [
       "permalink                      0\n",
       "funding_round_permalink        0\n",
       "funding_round_type             0\n",
       "funding_round_code         61753\n",
       "funded_at                      0\n",
       "raised_amount_usd              0\n",
       "name                           1\n",
       "homepage_url                3251\n",
       "category_list                  0\n",
       "status                         0\n",
       "country_code                   0\n",
       "state_code                  1731\n",
       "region                      1184\n",
       "city                        1181\n",
       "founded_at                 13369\n",
       "dtype: int64"
      ]
     },
     "execution_count": 13,
     "metadata": {},
     "output_type": "execute_result"
    }
   ],
   "source": [
    "master_frame = master_frame[pd.notnull(master_frame[\"raised_amount_usd\"])]\n",
    "master_frame.isnull().sum()"
   ]
  },
  {
   "cell_type": "markdown",
   "metadata": {},
   "source": [
    "For now we don't need funding_round_code, homepage_url, state_code, region, city and founded_at. <br>\n",
    "Hence Keeping the missing values for now."
   ]
  },
  {
   "cell_type": "code",
   "execution_count": 14,
   "metadata": {},
   "outputs": [
    {
     "name": "stdout",
     "output_type": "stream",
     "text": [
      "(88529, 15)\n"
     ]
    }
   ],
   "source": [
    "print(master_frame.shape)"
   ]
  },
  {
   "cell_type": "markdown",
   "metadata": {},
   "source": [
    "### Checkpoint 2: Funding Type Analysis"
   ]
  },
  {
   "cell_type": "markdown",
   "metadata": {},
   "source": [
    "##### Condition <br> Spark Funds wants to invest between 5 to 15 million USD per investment round"
   ]
  },
  {
   "cell_type": "code",
   "execution_count": 15,
   "metadata": {},
   "outputs": [],
   "source": [
    "investment_type = ['venture', 'seed', 'angel', 'private_equity']\n",
    "selected_funds = master_frame[master_frame[\"funding_round_type\"].isin(investment_type)]"
   ]
  },
  {
   "cell_type": "code",
   "execution_count": 16,
   "metadata": {},
   "outputs": [
    {
     "name": "stdout",
     "output_type": "stream",
     "text": [
      "\n",
      "\n",
      "\n",
      "funding_round_type\n",
      "angel             9.715739e+05\n",
      "private_equity    7.393849e+07\n",
      "seed              7.477937e+05\n",
      "venture           1.172422e+07\n",
      "Name: raised_amount_usd, dtype: float64\n",
      "\n",
      "\n",
      "\n",
      "funding_round_type\n",
      "angel               414906.0\n",
      "private_equity    20000000.0\n",
      "seed                300000.0\n",
      "venture            5000000.0\n",
      "Name: raised_amount_usd, dtype: float64\n",
      "\n",
      "\n",
      "\n",
      "funding_round_type\n",
      "angel             4.274925e+09\n",
      "private_equity    1.345680e+11\n",
      "seed              1.577471e+10\n",
      "venture           5.605234e+11\n",
      "Name: raised_amount_usd, dtype: float64\n"
     ]
    }
   ],
   "source": [
    "# Most representative value of the investment amount based on type\n",
    "\n",
    "print(\"\\n\\n\")\n",
    "print(selected_funds.groupby(['funding_round_type'])['raised_amount_usd'].mean())\n",
    "print(\"\\n\\n\")\n",
    "print(selected_funds.groupby(['funding_round_type'])['raised_amount_usd'].median())\n",
    "print(\"\\n\\n\")\n",
    "print(selected_funds.groupby(['funding_round_type'])['raised_amount_usd'].sum())"
   ]
  },
  {
   "cell_type": "code",
   "execution_count": 17,
   "metadata": {},
   "outputs": [],
   "source": [
    "#Applying condition for the Spark Funds"
   ]
  },
  {
   "cell_type": "code",
   "execution_count": 18,
   "metadata": {},
   "outputs": [
    {
     "name": "stdout",
     "output_type": "stream",
     "text": [
      "venture           47809\n",
      "seed              21095\n",
      "angel              4400\n",
      "private_equity     1820\n",
      "Name: funding_round_type, dtype: int64\n",
      "Venture: \n",
      "  True     47809\n",
      "False    27315\n",
      "Name: funding_round_type, dtype: int64\n",
      "\n",
      "\n",
      "Private Equity: \n",
      "  False    73304\n",
      "True      1820\n",
      "Name: funding_round_type, dtype: int64\n"
     ]
    }
   ],
   "source": [
    "#Number of venture and private_equity\n",
    "print(selected_funds.funding_round_type.value_counts())\n",
    "print(\"Venture: \\n \", (selected_funds[\"funding_round_type\"] == \"venture\").value_counts())\n",
    "print(\"\\n\\nPrivate Equity: \\n \", (selected_funds[\"funding_round_type\"] == \"private_equity\").value_counts())"
   ]
  },
  {
   "cell_type": "code",
   "execution_count": 19,
   "metadata": {},
   "outputs": [
    {
     "data": {
      "image/png": "[encoded data removed]",
      "text/plain": [
       "<Figure size 360x360 with 1 Axes>"
      ]
     },
     "metadata": {
      "needs_background": "light"
     },
     "output_type": "display_data"
    }
   ],
   "source": [
    "fund_round_grp = selected_funds.groupby('funding_round_type')['raised_amount_usd'].mean().reset_index()\n",
    "sns.catplot(data = fund_round_grp, x=fund_round_grp['funding_round_type'], y= fund_round_grp['raised_amount_usd'])\n",
    "\n",
    "fund_round_grp = fund_round_grp.loc[(fund_round_grp[\"raised_amount_usd\"] >= 5000000) & (fund_round_grp[\"raised_amount_usd\"]<=15000000)]"
   ]
  },
  {
   "cell_type": "code",
   "execution_count": 20,
   "metadata": {},
   "outputs": [
    {
     "data": {
      "text/html": [
       "<div>\n",
       "<style scoped>\n",
       "    .dataframe tbody tr th:only-of-type {\n",
       "        vertical-align: middle;\n",
       "    }\n",
       "\n",
       "    .dataframe tbody tr th {\n",
       "        vertical-align: top;\n",
       "    }\n",
       "\n",
       "    .dataframe thead th {\n",
       "        text-align: right;\n",
       "    }\n",
       "</style>\n",
       "<table border=\"1\" class=\"dataframe\">\n",
       "  <thead>\n",
       "    <tr style=\"text-align: right;\">\n",
       "      <th></th>\n",
       "      <th>funding_round_type</th>\n",
       "      <th>raised_amount_usd</th>\n",
       "    </tr>\n",
       "  </thead>\n",
       "  <tbody>\n",
       "    <tr>\n",
       "      <th>3</th>\n",
       "      <td>venture</td>\n",
       "      <td>1.172422e+07</td>\n",
       "    </tr>\n",
       "  </tbody>\n",
       "</table>\n",
       "</div>"
      ],
      "text/plain": [
       "  funding_round_type  raised_amount_usd\n",
       "3            venture       1.172422e+07"
      ]
     },
     "execution_count": 20,
     "metadata": {},
     "output_type": "execute_result"
    }
   ],
   "source": [
    "fund_round_grp"
   ]
  },
  {
   "cell_type": "markdown",
   "metadata": {},
   "source": [
    "#### Type of investment suitable for Spark Funds is venture"
   ]
  },
  {
   "cell_type": "markdown",
   "metadata": {},
   "source": [
    "### Checkpoint 3: Country Analysis\n",
    "\n",
    "##### Spark Funds wants to see the top nine countries which have received the highest total funding (across ALL sectors for the chosen investment type)"
   ]
  },
  {
   "cell_type": "code",
   "execution_count": 21,
   "metadata": {},
   "outputs": [
    {
     "name": "stdout",
     "output_type": "stream",
     "text": [
      "(47809, 15)\n"
     ]
    },
    {
     "data": {
      "text/html": [
       "<div>\n",
       "<style scoped>\n",
       "    .dataframe tbody tr th:only-of-type {\n",
       "        vertical-align: middle;\n",
       "    }\n",
       "\n",
       "    .dataframe tbody tr th {\n",
       "        vertical-align: top;\n",
       "    }\n",
       "\n",
       "    .dataframe thead th {\n",
       "        text-align: right;\n",
       "    }\n",
       "</style>\n",
       "<table border=\"1\" class=\"dataframe\">\n",
       "  <thead>\n",
       "    <tr style=\"text-align: right;\">\n",
       "      <th></th>\n",
       "      <th>permalink</th>\n",
       "      <th>funding_round_permalink</th>\n",
       "      <th>funding_round_type</th>\n",
       "      <th>funding_round_code</th>\n",
       "      <th>funded_at</th>\n",
       "      <th>raised_amount_usd</th>\n",
       "      <th>name</th>\n",
       "      <th>homepage_url</th>\n",
       "      <th>category_list</th>\n",
       "      <th>status</th>\n",
       "      <th>country_code</th>\n",
       "      <th>state_code</th>\n",
       "      <th>region</th>\n",
       "      <th>city</th>\n",
       "      <th>founded_at</th>\n",
       "    </tr>\n",
       "  </thead>\n",
       "  <tbody>\n",
       "    <tr>\n",
       "      <th>0</th>\n",
       "      <td>/organization/-fame</td>\n",
       "      <td>/funding-round/9a01d05418af9f794eebff7ace91f638</td>\n",
       "      <td>venture</td>\n",
       "      <td>B</td>\n",
       "      <td>05-01-2015</td>\n",
       "      <td>10000000.0</td>\n",
       "      <td>#fame</td>\n",
       "      <td>http://livfame.com</td>\n",
       "      <td>Media</td>\n",
       "      <td>operating</td>\n",
       "      <td>IND</td>\n",
       "      <td>16</td>\n",
       "      <td>Mumbai</td>\n",
       "      <td>Mumbai</td>\n",
       "      <td>NaN</td>\n",
       "    </tr>\n",
       "    <tr>\n",
       "      <th>4</th>\n",
       "      <td>/organization/0-6-com</td>\n",
       "      <td>/funding-round/5727accaeaa57461bd22a9bdd945382d</td>\n",
       "      <td>venture</td>\n",
       "      <td>A</td>\n",
       "      <td>19-03-2008</td>\n",
       "      <td>2000000.0</td>\n",
       "      <td>0-6.com</td>\n",
       "      <td>http://www.0-6.com</td>\n",
       "      <td>Curated Web</td>\n",
       "      <td>operating</td>\n",
       "      <td>CHN</td>\n",
       "      <td>22</td>\n",
       "      <td>Beijing</td>\n",
       "      <td>Beijing</td>\n",
       "      <td>01-01-2007</td>\n",
       "    </tr>\n",
       "    <tr>\n",
       "      <th>8</th>\n",
       "      <td>/organization/0ndine-biomedical-inc</td>\n",
       "      <td>/funding-round/954b9499724b946ad8c396a57a5f3b72</td>\n",
       "      <td>venture</td>\n",
       "      <td>NaN</td>\n",
       "      <td>21-12-2009</td>\n",
       "      <td>719491.0</td>\n",
       "      <td>Ondine Biomedical Inc.</td>\n",
       "      <td>http://ondinebio.com</td>\n",
       "      <td>Biotechnology</td>\n",
       "      <td>operating</td>\n",
       "      <td>CAN</td>\n",
       "      <td>BC</td>\n",
       "      <td>Vancouver</td>\n",
       "      <td>Vancouver</td>\n",
       "      <td>01-01-1997</td>\n",
       "    </tr>\n",
       "    <tr>\n",
       "      <th>10</th>\n",
       "      <td>/organization/0xdata</td>\n",
       "      <td>/funding-round/3bb2ee4a2d89251a10aaa735b1180e44</td>\n",
       "      <td>venture</td>\n",
       "      <td>B</td>\n",
       "      <td>09-11-2015</td>\n",
       "      <td>20000000.0</td>\n",
       "      <td>H2O.ai</td>\n",
       "      <td>http://h2o.ai/</td>\n",
       "      <td>Analytics</td>\n",
       "      <td>operating</td>\n",
       "      <td>USA</td>\n",
       "      <td>CA</td>\n",
       "      <td>SF Bay Area</td>\n",
       "      <td>Mountain View</td>\n",
       "      <td>01-01-2011</td>\n",
       "    </tr>\n",
       "    <tr>\n",
       "      <th>11</th>\n",
       "      <td>/organization/0xdata</td>\n",
       "      <td>/funding-round/ae2a174c06517c2394aed45006322a7e</td>\n",
       "      <td>venture</td>\n",
       "      <td>NaN</td>\n",
       "      <td>03-01-2013</td>\n",
       "      <td>1700000.0</td>\n",
       "      <td>H2O.ai</td>\n",
       "      <td>http://h2o.ai/</td>\n",
       "      <td>Analytics</td>\n",
       "      <td>operating</td>\n",
       "      <td>USA</td>\n",
       "      <td>CA</td>\n",
       "      <td>SF Bay Area</td>\n",
       "      <td>Mountain View</td>\n",
       "      <td>01-01-2011</td>\n",
       "    </tr>\n",
       "  </tbody>\n",
       "</table>\n",
       "</div>"
      ],
      "text/plain": [
       "                              permalink  \\\n",
       "0                   /organization/-fame   \n",
       "4                 /organization/0-6-com   \n",
       "8   /organization/0ndine-biomedical-inc   \n",
       "10                 /organization/0xdata   \n",
       "11                 /organization/0xdata   \n",
       "\n",
       "                            funding_round_permalink funding_round_type  \\\n",
       "0   /funding-round/9a01d05418af9f794eebff7ace91f638            venture   \n",
       "4   /funding-round/5727accaeaa57461bd22a9bdd945382d            venture   \n",
       "8   /funding-round/954b9499724b946ad8c396a57a5f3b72            venture   \n",
       "10  /funding-round/3bb2ee4a2d89251a10aaa735b1180e44            venture   \n",
       "11  /funding-round/ae2a174c06517c2394aed45006322a7e            venture   \n",
       "\n",
       "   funding_round_code   funded_at  raised_amount_usd                    name  \\\n",
       "0                   B  05-01-2015         10000000.0                   #fame   \n",
       "4                   A  19-03-2008          2000000.0                 0-6.com   \n",
       "8                 NaN  21-12-2009           719491.0  Ondine Biomedical Inc.   \n",
       "10                  B  09-11-2015         20000000.0                  H2O.ai   \n",
       "11                NaN  03-01-2013          1700000.0                  H2O.ai   \n",
       "\n",
       "            homepage_url  category_list     status country_code state_code  \\\n",
       "0     http://livfame.com          Media  operating          IND         16   \n",
       "4     http://www.0-6.com    Curated Web  operating          CHN         22   \n",
       "8   http://ondinebio.com  Biotechnology  operating          CAN         BC   \n",
       "10        http://h2o.ai/      Analytics  operating          USA         CA   \n",
       "11        http://h2o.ai/      Analytics  operating          USA         CA   \n",
       "\n",
       "         region           city  founded_at  \n",
       "0        Mumbai         Mumbai         NaN  \n",
       "4       Beijing        Beijing  01-01-2007  \n",
       "8     Vancouver      Vancouver  01-01-1997  \n",
       "10  SF Bay Area  Mountain View  01-01-2011  \n",
       "11  SF Bay Area  Mountain View  01-01-2011  "
      ]
     },
     "execution_count": 21,
     "metadata": {},
     "output_type": "execute_result"
    }
   ],
   "source": [
    "venture_fund = master_frame[master_frame[\"funding_round_type\"].isin([\"venture\"])]\n",
    "print(venture_fund.shape)\n",
    "venture_fund.head()"
   ]
  },
  {
   "cell_type": "code",
   "execution_count": 22,
   "metadata": {},
   "outputs": [
    {
     "data": {
      "text/html": [
       "<div>\n",
       "<style scoped>\n",
       "    .dataframe tbody tr th:only-of-type {\n",
       "        vertical-align: middle;\n",
       "    }\n",
       "\n",
       "    .dataframe tbody tr th {\n",
       "        vertical-align: top;\n",
       "    }\n",
       "\n",
       "    .dataframe thead th {\n",
       "        text-align: right;\n",
       "    }\n",
       "</style>\n",
       "<table border=\"1\" class=\"dataframe\">\n",
       "  <thead>\n",
       "    <tr style=\"text-align: right;\">\n",
       "      <th></th>\n",
       "      <th>country_code</th>\n",
       "      <th>raised_amount_usd</th>\n",
       "    </tr>\n",
       "  </thead>\n",
       "  <tbody>\n",
       "    <tr>\n",
       "      <th>94</th>\n",
       "      <td>USA</td>\n",
       "      <td>4.200680e+11</td>\n",
       "    </tr>\n",
       "    <tr>\n",
       "      <th>15</th>\n",
       "      <td>CHN</td>\n",
       "      <td>3.933892e+10</td>\n",
       "    </tr>\n",
       "    <tr>\n",
       "      <th>29</th>\n",
       "      <td>GBR</td>\n",
       "      <td>2.007281e+10</td>\n",
       "    </tr>\n",
       "    <tr>\n",
       "      <th>39</th>\n",
       "      <td>IND</td>\n",
       "      <td>1.426151e+10</td>\n",
       "    </tr>\n",
       "    <tr>\n",
       "      <th>12</th>\n",
       "      <td>CAN</td>\n",
       "      <td>9.482218e+09</td>\n",
       "    </tr>\n",
       "    <tr>\n",
       "      <th>28</th>\n",
       "      <td>FRA</td>\n",
       "      <td>7.226851e+09</td>\n",
       "    </tr>\n",
       "    <tr>\n",
       "      <th>42</th>\n",
       "      <td>ISR</td>\n",
       "      <td>6.854350e+09</td>\n",
       "    </tr>\n",
       "    <tr>\n",
       "      <th>21</th>\n",
       "      <td>DEU</td>\n",
       "      <td>6.306922e+09</td>\n",
       "    </tr>\n",
       "    <tr>\n",
       "      <th>45</th>\n",
       "      <td>JPN</td>\n",
       "      <td>3.167647e+09</td>\n",
       "    </tr>\n",
       "  </tbody>\n",
       "</table>\n",
       "</div>"
      ],
      "text/plain": [
       "   country_code  raised_amount_usd\n",
       "94          USA       4.200680e+11\n",
       "15          CHN       3.933892e+10\n",
       "29          GBR       2.007281e+10\n",
       "39          IND       1.426151e+10\n",
       "12          CAN       9.482218e+09\n",
       "28          FRA       7.226851e+09\n",
       "42          ISR       6.854350e+09\n",
       "21          DEU       6.306922e+09\n",
       "45          JPN       3.167647e+09"
      ]
     },
     "execution_count": 22,
     "metadata": {},
     "output_type": "execute_result"
    }
   ],
   "source": [
    "top9 = venture_fund.groupby('country_code')['raised_amount_usd'].sum().reset_index().sort_values(['raised_amount_usd'], ascending =False).head(9)\n",
    "top9"
   ]
  },
  {
   "cell_type": "markdown",
   "metadata": {},
   "source": [
    "##### From the above list the English speaking contries are\n",
    "-  USA\n",
    "-  GBR\n",
    "-  IND\n",
    "-  CAN\n"
   ]
  },
  {
   "cell_type": "code",
   "execution_count": 23,
   "metadata": {},
   "outputs": [
    {
     "data": {
      "text/html": [
       "<div>\n",
       "<style scoped>\n",
       "    .dataframe tbody tr th:only-of-type {\n",
       "        vertical-align: middle;\n",
       "    }\n",
       "\n",
       "    .dataframe tbody tr th {\n",
       "        vertical-align: top;\n",
       "    }\n",
       "\n",
       "    .dataframe thead th {\n",
       "        text-align: right;\n",
       "    }\n",
       "</style>\n",
       "<table border=\"1\" class=\"dataframe\">\n",
       "  <thead>\n",
       "    <tr style=\"text-align: right;\">\n",
       "      <th></th>\n",
       "      <th>country_code</th>\n",
       "      <th>raised_amount_usd</th>\n",
       "    </tr>\n",
       "  </thead>\n",
       "  <tbody>\n",
       "    <tr>\n",
       "      <th>94</th>\n",
       "      <td>USA</td>\n",
       "      <td>4.200680e+11</td>\n",
       "    </tr>\n",
       "    <tr>\n",
       "      <th>29</th>\n",
       "      <td>GBR</td>\n",
       "      <td>2.007281e+10</td>\n",
       "    </tr>\n",
       "    <tr>\n",
       "      <th>39</th>\n",
       "      <td>IND</td>\n",
       "      <td>1.426151e+10</td>\n",
       "    </tr>\n",
       "  </tbody>\n",
       "</table>\n",
       "</div>"
      ],
      "text/plain": [
       "   country_code  raised_amount_usd\n",
       "94          USA       4.200680e+11\n",
       "29          GBR       2.007281e+10\n",
       "39          IND       1.426151e+10"
      ]
     },
     "execution_count": 23,
     "metadata": {},
     "output_type": "execute_result"
    }
   ],
   "source": [
    "english_speaking = ['USA', 'GBR', 'CAD', 'IND']\n",
    "top3 = top9[top9['country_code'].isin(english_speaking)]\n",
    "top3"
   ]
  },
  {
   "cell_type": "markdown",
   "metadata": {},
   "source": [
    "##### The top three English-speaking countries in the data frame"
   ]
  },
  {
   "cell_type": "code",
   "execution_count": 24,
   "metadata": {},
   "outputs": [
    {
     "data": {
      "text/plain": [
       "(38803, 15)"
      ]
     },
     "execution_count": 24,
     "metadata": {},
     "output_type": "execute_result"
    }
   ],
   "source": [
    "contry_venture_fund = venture_fund[venture_fund['country_code'].isin(english_speaking)]\n",
    "contry_venture_fund.shape"
   ]
  },
  {
   "cell_type": "markdown",
   "metadata": {},
   "source": [
    "### Checkpoint 4: Sector Analysis 1"
   ]
  },
  {
   "cell_type": "markdown",
   "metadata": {},
   "source": [
    "##### Given Rule\n",
    "-  The first string before the vertical bar will be considered the primary sector from category_list\t"
   ]
  },
  {
   "cell_type": "code",
   "execution_count": 25,
   "metadata": {},
   "outputs": [
    {
     "name": "stdout",
     "output_type": "stream",
     "text": [
      "(88529, 15)\n",
      "<class 'pandas.core.frame.DataFrame'>\n",
      "Int64Index: 88529 entries, 0 to 114947\n",
      "Data columns (total 15 columns):\n",
      " #   Column                   Non-Null Count  Dtype  \n",
      "---  ------                   --------------  -----  \n",
      " 0   permalink                88529 non-null  object \n",
      " 1   funding_round_permalink  88529 non-null  object \n",
      " 2   funding_round_type       88529 non-null  object \n",
      " 3   funding_round_code       26776 non-null  object \n",
      " 4   funded_at                88529 non-null  object \n",
      " 5   raised_amount_usd        88529 non-null  float64\n",
      " 6   name                     88528 non-null  object \n",
      " 7   homepage_url             85278 non-null  object \n",
      " 8   category_list            88529 non-null  object \n",
      " 9   status                   88529 non-null  object \n",
      " 10  country_code             88529 non-null  object \n",
      " 11  state_code               86798 non-null  object \n",
      " 12  region                   87345 non-null  object \n",
      " 13  city                     87348 non-null  object \n",
      " 14  founded_at               75160 non-null  object \n",
      "dtypes: float64(1), object(14)\n",
      "memory usage: 10.8+ MB\n",
      "None\n",
      "Biotechnology                                                                                                                7621\n",
      "Software                                                                                                                     5659\n",
      "Health Care                                                                                                                  2033\n",
      "Clean Technology                                                                                                             1846\n",
      "Mobile                                                                                                                       1733\n",
      "                                                                                                                             ... \n",
      "Hardware + Software|Payments|Technology                                                                                         1\n",
      "Ad Targeting|Advertising|App Marketing|Brand Marketing|Curated Web|Market Research|Social Media|Weddings                        1\n",
      "Collaboration|Development Platforms|Project Management|Task Management                                                          1\n",
      "E-Commerce Platforms|Freelancers|Marketplaces|Mobile Commerce|Mobile Shopping|Online Shopping|Outsourcing|Social Commerce       1\n",
      "Health and Wellness|Manufacturing|Medical Devices|Pharmaceuticals                                                               1\n",
      "Name: category_list, Length: 21317, dtype: int64\n"
     ]
    }
   ],
   "source": [
    "print(master_frame.shape)\n",
    "print(master_frame.info())\n",
    "print(master_frame.category_list.value_counts())"
   ]
  },
  {
   "cell_type": "code",
   "execution_count": 26,
   "metadata": {},
   "outputs": [],
   "source": [
    "# Storing the primary sector as per the rule\n",
    "\n",
    "master_frame[\"primary_sector\"] = master_frame.category_list.apply(lambda x : x.split('|')[0] )"
   ]
  },
  {
   "cell_type": "code",
   "execution_count": 27,
   "metadata": {},
   "outputs": [
    {
     "data": {
      "text/plain": [
       "0"
      ]
     },
     "execution_count": 27,
     "metadata": {},
     "output_type": "execute_result"
    }
   ],
   "source": [
    "master_frame.primary_sector.isnull().sum()"
   ]
  },
  {
   "cell_type": "markdown",
   "metadata": {},
   "source": [
    "## Mapping of Sectors"
   ]
  },
  {
   "cell_type": "code",
   "execution_count": 28,
   "metadata": {},
   "outputs": [
    {
     "name": "stdout",
     "output_type": "stream",
     "text": [
      "<class 'pandas.core.frame.DataFrame'>\n",
      "Int64Index: 687 entries, 1 to 687\n",
      "Data columns (total 10 columns):\n",
      " #   Column                                   Non-Null Count  Dtype \n",
      "---  ------                                   --------------  ----- \n",
      " 0   category_list                            687 non-null    object\n",
      " 1   Automotive & Sports                      687 non-null    int64 \n",
      " 2   Blanks                                   687 non-null    int64 \n",
      " 3   Cleantech / Semiconductors               687 non-null    int64 \n",
      " 4   Entertainment                            687 non-null    int64 \n",
      " 5   Health                                   687 non-null    int64 \n",
      " 6   Manufacturing                            687 non-null    int64 \n",
      " 7   News, Search and Messaging               687 non-null    int64 \n",
      " 8   Others                                   687 non-null    int64 \n",
      " 9   Social, Finance, Analytics, Advertising  687 non-null    int64 \n",
      "dtypes: int64(9), object(1)\n",
      "memory usage: 59.0+ KB\n"
     ]
    }
   ],
   "source": [
    "mapping = pd.read_csv(\"Datasets/mapping.csv\")\n",
    "mapping = mapping[pd.notnull(mapping.category_list)]\n",
    "mapping.info()"
   ]
  },
  {
   "cell_type": "code",
   "execution_count": 29,
   "metadata": {},
   "outputs": [
    {
     "data": {
      "text/plain": [
       "category_list                              0\n",
       "Automotive & Sports                        0\n",
       "Blanks                                     0\n",
       "Cleantech / Semiconductors                 0\n",
       "Entertainment                              0\n",
       "Health                                     0\n",
       "Manufacturing                              0\n",
       "News, Search and Messaging                 0\n",
       "Others                                     0\n",
       "Social, Finance, Analytics, Advertising    0\n",
       "dtype: int64"
      ]
     },
     "execution_count": 29,
     "metadata": {},
     "output_type": "execute_result"
    }
   ],
   "source": [
    "mapping.isnull().sum()"
   ]
  },
  {
   "cell_type": "markdown",
   "metadata": {},
   "source": [
    "##### We need a column in mapping which contains the Sector for the category_list"
   ]
  },
  {
   "cell_type": "code",
   "execution_count": 30,
   "metadata": {},
   "outputs": [],
   "source": [
    "#Function return the sector (where value is 1 in the cat column)\n",
    "\n",
    "def get_sector(row):    \n",
    "    for c in mapping.columns:\n",
    "        if row[c] == 1:\n",
    "            return c\n",
    "        "
   ]
  },
  {
   "cell_type": "code",
   "execution_count": 31,
   "metadata": {},
   "outputs": [],
   "source": [
    "mapping['main_sector'] = mapping.apply(get_sector, axis =1)"
   ]
  },
  {
   "cell_type": "code",
   "execution_count": 32,
   "metadata": {},
   "outputs": [
    {
     "data": {
      "text/plain": [
       "Index(['category_list', 'main_sector'], dtype='object')"
      ]
     },
     "execution_count": 32,
     "metadata": {},
     "output_type": "execute_result"
    }
   ],
   "source": [
    "# We no more need encoding as we have category and sector columns\n",
    "mapping = pd.DataFrame(mapping, columns=['category_list', 'main_sector'])\n",
    "mapping.columns"
   ]
  },
  {
   "cell_type": "code",
   "execution_count": 33,
   "metadata": {},
   "outputs": [
    {
     "name": "stdout",
     "output_type": "stream",
     "text": [
      "<class 'pandas.core.frame.DataFrame'>\n",
      "Int64Index: 687 entries, 1 to 687\n",
      "Data columns (total 2 columns):\n",
      " #   Column          Non-Null Count  Dtype \n",
      "---  ------          --------------  ----- \n",
      " 0   primary_sector  687 non-null    object\n",
      " 1   main_sector     687 non-null    object\n",
      "dtypes: object(2)\n",
      "memory usage: 16.1+ KB\n"
     ]
    }
   ],
   "source": [
    "#To perform merge we need same column name hence renaming category_list -> primary_sector\n",
    "mapping.rename(columns={\"category_list\": \"primary_sector\"}, inplace=True)\n",
    "mapping.info()"
   ]
  },
  {
   "cell_type": "code",
   "execution_count": 34,
   "metadata": {},
   "outputs": [],
   "source": [
    "#Before Merging masater_frame and mapping we need to lowercase the common values to be on safer side\n",
    "master_frame.primary_sector = master_frame.primary_sector.apply(lambda x: x.lower())\n",
    "mapping.primary_sector = mapping.primary_sector.apply(lambda x: x.lower())"
   ]
  },
  {
   "cell_type": "markdown",
   "metadata": {},
   "source": [
    "##### Merging mapping with master_frame to attach additional column of main_sector in master_frame"
   ]
  },
  {
   "cell_type": "code",
   "execution_count": 35,
   "metadata": {},
   "outputs": [
    {
     "data": {
      "text/html": [
       "<div>\n",
       "<style scoped>\n",
       "    .dataframe tbody tr th:only-of-type {\n",
       "        vertical-align: middle;\n",
       "    }\n",
       "\n",
       "    .dataframe tbody tr th {\n",
       "        vertical-align: top;\n",
       "    }\n",
       "\n",
       "    .dataframe thead th {\n",
       "        text-align: right;\n",
       "    }\n",
       "</style>\n",
       "<table border=\"1\" class=\"dataframe\">\n",
       "  <thead>\n",
       "    <tr style=\"text-align: right;\">\n",
       "      <th></th>\n",
       "      <th>permalink</th>\n",
       "      <th>funding_round_permalink</th>\n",
       "      <th>funding_round_type</th>\n",
       "      <th>funding_round_code</th>\n",
       "      <th>funded_at</th>\n",
       "      <th>raised_amount_usd</th>\n",
       "      <th>name</th>\n",
       "      <th>homepage_url</th>\n",
       "      <th>category_list</th>\n",
       "      <th>status</th>\n",
       "      <th>country_code</th>\n",
       "      <th>state_code</th>\n",
       "      <th>region</th>\n",
       "      <th>city</th>\n",
       "      <th>founded_at</th>\n",
       "      <th>primary_sector</th>\n",
       "      <th>main_sector</th>\n",
       "    </tr>\n",
       "  </thead>\n",
       "  <tbody>\n",
       "    <tr>\n",
       "      <th>0</th>\n",
       "      <td>/organization/-fame</td>\n",
       "      <td>/funding-round/9a01d05418af9f794eebff7ace91f638</td>\n",
       "      <td>venture</td>\n",
       "      <td>B</td>\n",
       "      <td>05-01-2015</td>\n",
       "      <td>10000000.0</td>\n",
       "      <td>#fame</td>\n",
       "      <td>http://livfame.com</td>\n",
       "      <td>Media</td>\n",
       "      <td>operating</td>\n",
       "      <td>IND</td>\n",
       "      <td>16</td>\n",
       "      <td>Mumbai</td>\n",
       "      <td>Mumbai</td>\n",
       "      <td>NaN</td>\n",
       "      <td>media</td>\n",
       "      <td>Entertainment</td>\n",
       "    </tr>\n",
       "    <tr>\n",
       "      <th>1</th>\n",
       "      <td>/organization/90min</td>\n",
       "      <td>/funding-round/21a2cbf6f2fb2a1c2a61e04bf930dfe6</td>\n",
       "      <td>venture</td>\n",
       "      <td>NaN</td>\n",
       "      <td>06-10-2015</td>\n",
       "      <td>15000000.0</td>\n",
       "      <td>90min</td>\n",
       "      <td>http://www.90min.com</td>\n",
       "      <td>Media|News|Publishing|Soccer|Sports</td>\n",
       "      <td>operating</td>\n",
       "      <td>GBR</td>\n",
       "      <td>H9</td>\n",
       "      <td>London</td>\n",
       "      <td>London</td>\n",
       "      <td>01-01-2011</td>\n",
       "      <td>media</td>\n",
       "      <td>Entertainment</td>\n",
       "    </tr>\n",
       "    <tr>\n",
       "      <th>2</th>\n",
       "      <td>/organization/90min</td>\n",
       "      <td>/funding-round/bd626ed022f5c66574b1afe234f3c90d</td>\n",
       "      <td>venture</td>\n",
       "      <td>NaN</td>\n",
       "      <td>07-05-2013</td>\n",
       "      <td>5800000.0</td>\n",
       "      <td>90min</td>\n",
       "      <td>http://www.90min.com</td>\n",
       "      <td>Media|News|Publishing|Soccer|Sports</td>\n",
       "      <td>operating</td>\n",
       "      <td>GBR</td>\n",
       "      <td>H9</td>\n",
       "      <td>London</td>\n",
       "      <td>London</td>\n",
       "      <td>01-01-2011</td>\n",
       "      <td>media</td>\n",
       "      <td>Entertainment</td>\n",
       "    </tr>\n",
       "    <tr>\n",
       "      <th>3</th>\n",
       "      <td>/organization/90min</td>\n",
       "      <td>/funding-round/fd4b15e8c97ee2ffc0acccdbe1a98810</td>\n",
       "      <td>venture</td>\n",
       "      <td>NaN</td>\n",
       "      <td>26-03-2014</td>\n",
       "      <td>18000000.0</td>\n",
       "      <td>90min</td>\n",
       "      <td>http://www.90min.com</td>\n",
       "      <td>Media|News|Publishing|Soccer|Sports</td>\n",
       "      <td>operating</td>\n",
       "      <td>GBR</td>\n",
       "      <td>H9</td>\n",
       "      <td>London</td>\n",
       "      <td>London</td>\n",
       "      <td>01-01-2011</td>\n",
       "      <td>media</td>\n",
       "      <td>Entertainment</td>\n",
       "    </tr>\n",
       "    <tr>\n",
       "      <th>4</th>\n",
       "      <td>/organization/a-dance-for-me</td>\n",
       "      <td>/funding-round/9ab9dbd17bf010c79d8415b2c22be6fa</td>\n",
       "      <td>equity_crowdfunding</td>\n",
       "      <td>NaN</td>\n",
       "      <td>26-03-2014</td>\n",
       "      <td>1090000.0</td>\n",
       "      <td>A Dance for Me</td>\n",
       "      <td>http://www.adanceforme.com/</td>\n",
       "      <td>Media|News|Photo Sharing|Video</td>\n",
       "      <td>operating</td>\n",
       "      <td>USA</td>\n",
       "      <td>MT</td>\n",
       "      <td>Missoula</td>\n",
       "      <td>Missoula</td>\n",
       "      <td>31-07-2011</td>\n",
       "      <td>media</td>\n",
       "      <td>Entertainment</td>\n",
       "    </tr>\n",
       "  </tbody>\n",
       "</table>\n",
       "</div>"
      ],
      "text/plain": [
       "                      permalink  \\\n",
       "0           /organization/-fame   \n",
       "1           /organization/90min   \n",
       "2           /organization/90min   \n",
       "3           /organization/90min   \n",
       "4  /organization/a-dance-for-me   \n",
       "\n",
       "                           funding_round_permalink   funding_round_type  \\\n",
       "0  /funding-round/9a01d05418af9f794eebff7ace91f638              venture   \n",
       "1  /funding-round/21a2cbf6f2fb2a1c2a61e04bf930dfe6              venture   \n",
       "2  /funding-round/bd626ed022f5c66574b1afe234f3c90d              venture   \n",
       "3  /funding-round/fd4b15e8c97ee2ffc0acccdbe1a98810              venture   \n",
       "4  /funding-round/9ab9dbd17bf010c79d8415b2c22be6fa  equity_crowdfunding   \n",
       "\n",
       "  funding_round_code   funded_at  raised_amount_usd            name  \\\n",
       "0                  B  05-01-2015         10000000.0           #fame   \n",
       "1                NaN  06-10-2015         15000000.0           90min   \n",
       "2                NaN  07-05-2013          5800000.0           90min   \n",
       "3                NaN  26-03-2014         18000000.0           90min   \n",
       "4                NaN  26-03-2014          1090000.0  A Dance for Me   \n",
       "\n",
       "                  homepage_url                        category_list  \\\n",
       "0           http://livfame.com                                Media   \n",
       "1         http://www.90min.com  Media|News|Publishing|Soccer|Sports   \n",
       "2         http://www.90min.com  Media|News|Publishing|Soccer|Sports   \n",
       "3         http://www.90min.com  Media|News|Publishing|Soccer|Sports   \n",
       "4  http://www.adanceforme.com/       Media|News|Photo Sharing|Video   \n",
       "\n",
       "      status country_code state_code    region      city  founded_at  \\\n",
       "0  operating          IND         16    Mumbai    Mumbai         NaN   \n",
       "1  operating          GBR         H9    London    London  01-01-2011   \n",
       "2  operating          GBR         H9    London    London  01-01-2011   \n",
       "3  operating          GBR         H9    London    London  01-01-2011   \n",
       "4  operating          USA         MT  Missoula  Missoula  31-07-2011   \n",
       "\n",
       "  primary_sector    main_sector  \n",
       "0          media  Entertainment  \n",
       "1          media  Entertainment  \n",
       "2          media  Entertainment  \n",
       "3          media  Entertainment  \n",
       "4          media  Entertainment  "
      ]
     },
     "execution_count": 35,
     "metadata": {},
     "output_type": "execute_result"
    }
   ],
   "source": [
    "master_frame = pd.merge(master_frame, mapping, on = \"primary_sector\")\n",
    "master_frame.head()"
   ]
  },
  {
   "cell_type": "code",
   "execution_count": 36,
   "metadata": {},
   "outputs": [
    {
     "data": {
      "text/plain": [
       "0"
      ]
     },
     "execution_count": 36,
     "metadata": {},
     "output_type": "execute_result"
    }
   ],
   "source": [
    "master_frame[\"main_sector\"].isnull().sum()"
   ]
  },
  {
   "cell_type": "markdown",
   "metadata": {},
   "source": [
    "##### Filtering dataframe for only three contries i.e. english_speaking = ['USA', 'GBR','IND'] and Funding type is "
   ]
  },
  {
   "cell_type": "code",
   "execution_count": 47,
   "metadata": {},
   "outputs": [
    {
     "name": "stdout",
     "output_type": "stream",
     "text": [
      "(36187, 17)\n"
     ]
    }
   ],
   "source": [
    "english_speaking = ['USA', 'GBR','IND']\n",
    "master_frame_cp5 = master_frame[(master_frame[\"country_code\"].isin(english_speaking)) & (master_frame[\"funding_round_type\"] == 'venture')]\n",
    "print(master_frame_cp5.shape)"
   ]
  },
  {
   "cell_type": "markdown",
   "metadata": {},
   "source": [
    "##### Filtering dataframe for investments range of 5-15 M USD"
   ]
  },
  {
   "cell_type": "code",
   "execution_count": 46,
   "metadata": {},
   "outputs": [
    {
     "data": {
      "text/plain": [
       "(12025, 17)"
      ]
     },
     "execution_count": 46,
     "metadata": {},
     "output_type": "execute_result"
    }
   ],
   "source": [
    "master_frame_cp5 = master_frame_cp5[(master_frame_cp5[\"raised_amount_usd\"] >= 5000000) & (master_frame_cp5[\"raised_amount_usd\"] <=15000000)]\n",
    "master_frame_cp5.shape"
   ]
  },
  {
   "cell_type": "code",
   "execution_count": 39,
   "metadata": {},
   "outputs": [
    {
     "data": {
      "image/png": "[encoded data removed]",
      "text/plain": [
       "<Figure size 360x360 with 1 Axes>"
      ]
     },
     "metadata": {
      "needs_background": "light"
     },
     "output_type": "display_data"
    },
    {
     "data": {
      "image/png": "[encoded data removed]",
      "text/plain": [
       "<Figure size 1080x1080 with 1 Axes>"
      ]
     },
     "metadata": {
      "needs_background": "light"
     },
     "output_type": "display_data"
    }
   ],
   "source": [
    "sns.catplot(data=master_frame_cp5, y=master_frame_cp5['raised_amount_usd'], x=master_frame_cp5['country_code'], kind='bar')\n",
    "plt.show()\n",
    "\n",
    "sns.catplot(data=master_frame_cp5, y=master_frame_cp5['raised_amount_usd'], x=master_frame_cp5['main_sector'], kind='bar', height=15)\n",
    "plt.show()"
   ]
  },
  {
   "cell_type": "markdown",
   "metadata": {},
   "source": [
    "##### Creating separate Datafrae for seaparate countries"
   ]
  },
  {
   "cell_type": "code",
   "execution_count": 40,
   "metadata": {},
   "outputs": [],
   "source": [
    "USA = master_frame_cp5[master_frame_cp5['country_code'] == 'USA']\n",
    "GBR = master_frame_cp5[master_frame_cp5['country_code'] == 'GBR']\n",
    "IND = master_frame_cp5[master_frame_cp5['country_code'] == 'IND']"
   ]
  },
  {
   "cell_type": "markdown",
   "metadata": {},
   "source": [
    "##### Total number of investments (count)"
   ]
  },
  {
   "cell_type": "code",
   "execution_count": 41,
   "metadata": {},
   "outputs": [
    {
     "name": "stdout",
     "output_type": "stream",
     "text": [
      "Total Number of investments in the USA is  11149\n",
      "Total Number of investments in the Britan is  577\n",
      "Total Number of investments in the India is  299\n"
     ]
    }
   ],
   "source": [
    "# Total number of investments (count)\n",
    "\n",
    "print(\"Total Number of investments in the USA is \", USA.shape[0])\n",
    "print(\"Total Number of investments in the Britan is \", GBR.shape[0])\n",
    "print(\"Total Number of investments in the India is \", IND.shape[0])"
   ]
  },
  {
   "cell_type": "markdown",
   "metadata": {},
   "source": [
    "##### Total amount of investment (USD)"
   ]
  },
  {
   "cell_type": "code",
   "execution_count": 42,
   "metadata": {},
   "outputs": [
    {
     "name": "stdout",
     "output_type": "stream",
     "text": [
      "Total Number of investments in the USA is  99661524549.0\n",
      "Total Number of investments in the Britan is  5028704358.0\n",
      "Total Number of investments in the India is  2683537552.0\n"
     ]
    }
   ],
   "source": [
    "#Total amount of investment (USD)\n",
    "print(\"Total Number of investments in the USA is \", USA.raised_amount_usd.sum())\n",
    "print(\"Total Number of investments in the Britan is \", GBR.raised_amount_usd.sum())\n",
    "print(\"Total Number of investments in the India is \", IND.raised_amount_usd.sum())"
   ]
  },
  {
   "cell_type": "markdown",
   "metadata": {},
   "source": [
    "##### Sector based distributions (based on count of investments)"
   ]
  },
  {
   "cell_type": "code",
   "execution_count": 43,
   "metadata": {},
   "outputs": [
    {
     "name": "stdout",
     "output_type": "stream",
     "text": [
      "\n",
      " Others                                     2923\n",
      "Cleantech / Semiconductors                 2297\n",
      "Social, Finance, Analytics, Advertising    1912\n",
      "News, Search and Messaging                 1563\n",
      "Health                                      908\n",
      "Manufacturing                               799\n",
      "Entertainment                               580\n",
      "Automotive & Sports                         167\n",
      "Name: main_sector, dtype: int64\n"
     ]
    },
    {
     "data": {
      "image/png": "[encoded data removed]",
      "text/plain": [
       "<Figure size 432x288 with 1 Axes>"
      ]
     },
     "metadata": {
      "needs_background": "light"
     },
     "output_type": "display_data"
    },
    {
     "name": "stdout",
     "output_type": "stream",
     "text": [
      "\n",
      "\n",
      "\n",
      "\n",
      " Others                                     143\n",
      "Cleantech / Semiconductors                 127\n",
      "Social, Finance, Analytics, Advertising     98\n",
      "News, Search and Messaging                  73\n",
      "Entertainment                               54\n",
      "Manufacturing                               42\n",
      "Health                                      24\n",
      "Automotive & Sports                         16\n",
      "Name: main_sector, dtype: int64\n"
     ]
    },
    {
     "data": {
      "image/png": "[encoded data removed]",
      "text/plain": [
       "<Figure size 432x288 with 1 Axes>"
      ]
     },
     "metadata": {
      "needs_background": "light"
     },
     "output_type": "display_data"
    },
    {
     "name": "stdout",
     "output_type": "stream",
     "text": [
      "\n",
      "\n",
      "\n",
      "\n",
      " Others                                     109\n",
      "News, Search and Messaging                  52\n",
      "Entertainment                               33\n",
      "Social, Finance, Analytics, Advertising     32\n",
      "Manufacturing                               21\n",
      "Cleantech / Semiconductors                  20\n",
      "Health                                      19\n",
      "Automotive & Sports                         13\n",
      "Name: main_sector, dtype: int64\n"
     ]
    },
    {
     "data": {
      "image/png": "[encoded data removed]",
      "text/plain": [
       "<Figure size 432x288 with 1 Axes>"
      ]
     },
     "metadata": {
      "needs_background": "light"
     },
     "output_type": "display_data"
    },
    {
     "name": "stdout",
     "output_type": "stream",
     "text": [
      "\n",
      "\n",
      "\n"
     ]
    }
   ],
   "source": [
    "#USA\n",
    "\n",
    "print(\"\\n\", USA.main_sector.value_counts())\n",
    "USA.main_sector.value_counts().plot(kind='bar')\n",
    "plt.show()\n",
    "print(\"\\n\\n\")\n",
    "\n",
    "#GBR\n",
    "\n",
    "print(\"\\n\", GBR.main_sector.value_counts())\n",
    "GBR.main_sector.value_counts().plot(kind='bar')\n",
    "plt.show()\n",
    "print(\"\\n\\n\")\n",
    "\n",
    "#IND\n",
    "\n",
    "print(\"\\n\", IND.main_sector.value_counts())\n",
    "IND.main_sector.value_counts().plot(kind='bar')\n",
    "plt.show()\n",
    "print(\"\\n\\n\")"
   ]
  },
  {
   "cell_type": "code",
   "execution_count": null,
   "metadata": {},
   "outputs": [],
   "source": []
  },
  {
   "cell_type": "markdown",
   "metadata": {},
   "source": [
    "##### For the top sector count-wise, which company received the highest investment?"
   ]
  },
  {
   "cell_type": "code",
   "execution_count": 44,
   "metadata": {},
   "outputs": [],
   "source": [
    "#USA[USA.main_sector == 'Others'].sort_values(by=['raised_amount_usd'], ascending = False)\n",
    "USA2 = USA.groupby([\"permalink\",\"name\"]).raised_amount_usd.sum().reset_index()"
   ]
  },
  {
   "cell_type": "code",
   "execution_count": 45,
   "metadata": {},
   "outputs": [
    {
     "data": {
      "text/html": [
       "<div>\n",
       "<style scoped>\n",
       "    .dataframe tbody tr th:only-of-type {\n",
       "        vertical-align: middle;\n",
       "    }\n",
       "\n",
       "    .dataframe tbody tr th {\n",
       "        vertical-align: top;\n",
       "    }\n",
       "\n",
       "    .dataframe thead th {\n",
       "        text-align: right;\n",
       "    }\n",
       "</style>\n",
       "<table border=\"1\" class=\"dataframe\">\n",
       "  <thead>\n",
       "    <tr style=\"text-align: right;\">\n",
       "      <th></th>\n",
       "      <th>permalink</th>\n",
       "      <th>name</th>\n",
       "      <th>raised_amount_usd</th>\n",
       "    </tr>\n",
       "  </thead>\n",
       "  <tbody>\n",
       "    <tr>\n",
       "      <th>273</th>\n",
       "      <td>/organization/airspan-networks</td>\n",
       "      <td>Airspan Networks</td>\n",
       "      <td>81769000.0</td>\n",
       "    </tr>\n",
       "    <tr>\n",
       "      <th>899</th>\n",
       "      <td>/organization/biodesix</td>\n",
       "      <td>Biodesix</td>\n",
       "      <td>75300000.0</td>\n",
       "    </tr>\n",
       "    <tr>\n",
       "      <th>736</th>\n",
       "      <td>/organization/avnera</td>\n",
       "      <td>Avnera</td>\n",
       "      <td>71062970.0</td>\n",
       "    </tr>\n",
       "    <tr>\n",
       "      <th>6854</th>\n",
       "      <td>/organization/tigo-energy</td>\n",
       "      <td>Tigo Energy</td>\n",
       "      <td>68739496.0</td>\n",
       "    </tr>\n",
       "    <tr>\n",
       "      <th>2276</th>\n",
       "      <td>/organization/endogastric-solutions</td>\n",
       "      <td>EndoGastric Solutions</td>\n",
       "      <td>67896724.0</td>\n",
       "    </tr>\n",
       "    <tr>\n",
       "      <th>...</th>\n",
       "      <td>...</td>\n",
       "      <td>...</td>\n",
       "      <td>...</td>\n",
       "    </tr>\n",
       "    <tr>\n",
       "      <th>3478</th>\n",
       "      <td>/organization/iz3d</td>\n",
       "      <td>iZ3D</td>\n",
       "      <td>5000000.0</td>\n",
       "    </tr>\n",
       "    <tr>\n",
       "      <th>3472</th>\n",
       "      <td>/organization/ivinci-partners</td>\n",
       "      <td>iVinci Health</td>\n",
       "      <td>5000000.0</td>\n",
       "    </tr>\n",
       "    <tr>\n",
       "      <th>3437</th>\n",
       "      <td>/organization/iridian-technologies</td>\n",
       "      <td>Iridian Technologies</td>\n",
       "      <td>5000000.0</td>\n",
       "    </tr>\n",
       "    <tr>\n",
       "      <th>7008</th>\n",
       "      <td>/organization/trustradius</td>\n",
       "      <td>TrustRadius</td>\n",
       "      <td>5000000.0</td>\n",
       "    </tr>\n",
       "    <tr>\n",
       "      <th>0</th>\n",
       "      <td>/organization/1-mainstream</td>\n",
       "      <td>1 Mainstream</td>\n",
       "      <td>5000000.0</td>\n",
       "    </tr>\n",
       "  </tbody>\n",
       "</table>\n",
       "<p>7772 rows × 3 columns</p>\n",
       "</div>"
      ],
      "text/plain": [
       "                                permalink                   name  \\\n",
       "273        /organization/airspan-networks       Airspan Networks   \n",
       "899                /organization/biodesix               Biodesix   \n",
       "736                  /organization/avnera                 Avnera   \n",
       "6854            /organization/tigo-energy            Tigo Energy   \n",
       "2276  /organization/endogastric-solutions  EndoGastric Solutions   \n",
       "...                                   ...                    ...   \n",
       "3478                   /organization/iz3d                   iZ3D   \n",
       "3472        /organization/ivinci-partners          iVinci Health   \n",
       "3437   /organization/iridian-technologies   Iridian Technologies   \n",
       "7008            /organization/trustradius            TrustRadius   \n",
       "0              /organization/1-mainstream           1 Mainstream   \n",
       "\n",
       "      raised_amount_usd  \n",
       "273          81769000.0  \n",
       "899          75300000.0  \n",
       "736          71062970.0  \n",
       "6854         68739496.0  \n",
       "2276         67896724.0  \n",
       "...                 ...  \n",
       "3478          5000000.0  \n",
       "3472          5000000.0  \n",
       "3437          5000000.0  \n",
       "7008          5000000.0  \n",
       "0             5000000.0  \n",
       "\n",
       "[7772 rows x 3 columns]"
      ]
     },
     "execution_count": 45,
     "metadata": {},
     "output_type": "execute_result"
    }
   ],
   "source": [
    "USA2.sort_values(by=['raised_amount_usd'], ascending = False)"
   ]
  },
  {
   "cell_type": "markdown",
   "metadata": {},
   "source": [
    "# Trial"
   ]
  },
  {
   "cell_type": "code",
   "execution_count": 54,
   "metadata": {},
   "outputs": [],
   "source": [
    "list_cat_map = mapping.primary_sector.unique()\n",
    "list_cat_master = master_frame.primary_sector.unique()"
   ]
  },
  {
   "cell_type": "code",
   "execution_count": 65,
   "metadata": {},
   "outputs": [
    {
     "data": {
      "text/plain": [
       "array(['alternative medicine', 'analytics', 'big data analytics',\n",
       "       'business analytics', 'cannabis', 'career management',\n",
       "       'china internet', 'cloud management', 'contact management',\n",
       "       'digital rights management', 'digital signage',\n",
       "       'document management', 'educational games', 'energy management',\n",
       "       'energy storage', 'enterprise 2.na', 'event management',\n",
       "       'film distribution', 'finance', 'finance technology',\n",
       "       'financial exchanges', 'financial services', 'fleet management',\n",
       "       'flowers', 'governance', 'identity management',\n",
       "       'innovation management', 'intellectual asset management',\n",
       "       'investment management', 'it management', 'journalism',\n",
       "       'knowledge management', 'lead management', 'lotteries',\n",
       "       'low bid auctions', 'medical professionals', 'mobile analytics',\n",
       "       'multi-level marketing', 'nanotechnology',\n",
       "       'natural language processing', 'natural resources', 'navigation',\n",
       "       'personal branding', 'personal data', 'personal finance',\n",
       "       'personal health', 'personalization', 'pervasive computing',\n",
       "       'plumbers', 'predictive analytics', 'professional networking',\n",
       "       'professional services', 'project management', 'promotional',\n",
       "       'property management', 'risk management', 'smart grid',\n",
       "       'social media management', 'social recruiting',\n",
       "       'supply chain management', 'task management', 'taxis',\n",
       "       'veterinary', 'virtual workforces', 'waste management', 'women'],\n",
       "      dtype=object)"
      ]
     },
     "execution_count": 65,
     "metadata": {},
     "output_type": "execute_result"
    }
   ],
   "source": [
    "list_fin = np.setdiff1d(list_cat_map, list_cat_master)\n",
    "list_fin"
   ]
  },
  {
   "cell_type": "code",
   "execution_count": 59,
   "metadata": {},
   "outputs": [
    {
     "data": {
      "text/html": [
       "<div>\n",
       "<style scoped>\n",
       "    .dataframe tbody tr th:only-of-type {\n",
       "        vertical-align: middle;\n",
       "    }\n",
       "\n",
       "    .dataframe tbody tr th {\n",
       "        vertical-align: top;\n",
       "    }\n",
       "\n",
       "    .dataframe thead th {\n",
       "        text-align: right;\n",
       "    }\n",
       "</style>\n",
       "<table border=\"1\" class=\"dataframe\">\n",
       "  <thead>\n",
       "    <tr style=\"text-align: right;\">\n",
       "      <th></th>\n",
       "      <th>permalink</th>\n",
       "      <th>funding_round_permalink</th>\n",
       "      <th>funding_round_type</th>\n",
       "      <th>funding_round_code</th>\n",
       "      <th>funded_at</th>\n",
       "      <th>raised_amount_usd</th>\n",
       "      <th>name</th>\n",
       "      <th>homepage_url</th>\n",
       "      <th>category_list</th>\n",
       "      <th>status</th>\n",
       "      <th>country_code</th>\n",
       "      <th>state_code</th>\n",
       "      <th>region</th>\n",
       "      <th>city</th>\n",
       "      <th>founded_at</th>\n",
       "      <th>primary_sector</th>\n",
       "      <th>main_sector</th>\n",
       "    </tr>\n",
       "  </thead>\n",
       "  <tbody>\n",
       "  </tbody>\n",
       "</table>\n",
       "</div>"
      ],
      "text/plain": [
       "Empty DataFrame\n",
       "Columns: [permalink, funding_round_permalink, funding_round_type, funding_round_code, funded_at, raised_amount_usd, name, homepage_url, category_list, status, country_code, state_code, region, city, founded_at, primary_sector, main_sector]\n",
       "Index: []"
      ]
     },
     "execution_count": 59,
     "metadata": {},
     "output_type": "execute_result"
    }
   ],
   "source": [
    "master_frame[master_frame.primary_sector == '0notechnology']"
   ]
  },
  {
   "cell_type": "code",
   "execution_count": 63,
   "metadata": {},
   "outputs": [],
   "source": [
    "list_cat_map_df.primary_sector = mapping.primary_sector.apply(lambda x: x.replace('0','na'))\n",
    "list_cat_map = list_cat_map_df.primary_sector.unique()"
   ]
  },
  {
   "cell_type": "code",
   "execution_count": 64,
   "metadata": {},
   "outputs": [
    {
     "data": {
      "text/plain": [
       "array(['alternative medicine', 'analytics', 'big data analytics',\n",
       "       'business analytics', 'cannabis', 'career management',\n",
       "       'china internet', 'cloud management', 'contact management',\n",
       "       'digital rights management', 'digital signage',\n",
       "       'document management', 'educational games', 'energy management',\n",
       "       'energy storage', 'enterprise 2.na', 'event management',\n",
       "       'film distribution', 'finance', 'finance technology',\n",
       "       'financial exchanges', 'financial services', 'fleet management',\n",
       "       'flowers', 'governance', 'identity management',\n",
       "       'innovation management', 'intellectual asset management',\n",
       "       'investment management', 'it management', 'journalism',\n",
       "       'knowledge management', 'lead management', 'lotteries',\n",
       "       'low bid auctions', 'medical professionals', 'mobile analytics',\n",
       "       'multi-level marketing', 'nanotechnology',\n",
       "       'natural language processing', 'natural resources', 'navigation',\n",
       "       'personal branding', 'personal data', 'personal finance',\n",
       "       'personal health', 'personalization', 'pervasive computing',\n",
       "       'plumbers', 'predictive analytics', 'professional networking',\n",
       "       'professional services', 'project management', 'promotional',\n",
       "       'property management', 'risk management', 'smart grid',\n",
       "       'social media management', 'social recruiting',\n",
       "       'supply chain management', 'task management', 'taxis',\n",
       "       'veterinary', 'virtual workforces', 'waste management', 'women'],\n",
       "      dtype=object)"
      ]
     },
     "execution_count": 64,
     "metadata": {},
     "output_type": "execute_result"
    }
   ],
   "source": [
    "list_fin = np.setdiff1d(list_cat_map, list_cat_master)\n",
    "list_fin"
   ]
  },
  {
   "cell_type": "code",
   "execution_count": null,
   "metadata": {},
   "outputs": [],
   "source": []
  }
 ],
 "metadata": {
  "kernelspec": {
   "display_name": "Python 3",
   "language": "python",
   "name": "python3"
  },
  "language_info": {
   "codemirror_mode": {
    "name": "ipython",
    "version": 3
   },
   "file_extension": ".py",
   "mimetype": "text/x-python",
   "name": "python",
   "nbconvert_exporter": "python",
   "pygments_lexer": "ipython3",
   "version": "3.8.5"
  }
 },
 "nbformat": 4,
 "nbformat_minor": 4
}
