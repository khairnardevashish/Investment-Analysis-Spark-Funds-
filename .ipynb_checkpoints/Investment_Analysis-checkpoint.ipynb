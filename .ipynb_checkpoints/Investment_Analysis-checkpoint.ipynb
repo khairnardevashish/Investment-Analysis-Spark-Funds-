{
 "cells": [
  {
   "cell_type": "code",
   "execution_count": 1,
   "metadata": {},
   "outputs": [],
   "source": [
    "#Importing libraries\n",
    "\n",
    "import pandas as pd\n",
    "import numpy as np\n",
    "import seaborn as sns\n",
    "import matplotlib.pyplot as plt"
   ]
  },
  {
   "cell_type": "code",
   "execution_count": 2,
   "metadata": {},
   "outputs": [],
   "source": [
    "#Importing Data in to dataframes\n",
    "\n",
    "companies = pd.read_csv(\"Datasets/companies.csv\", encoding='palmos')\n",
    "round2 = pd.read_csv(\"Datasets/rounds2.csv\", encoding='palmos')"
   ]
  },
  {
   "cell_type": "code",
   "execution_count": 3,
   "metadata": {},
   "outputs": [
    {
     "name": "stdout",
     "output_type": "stream",
     "text": [
      "(114949, 6)\n",
      "(66368, 10)\n"
     ]
    }
   ],
   "source": [
    "#Dataframe shape\n",
    "\n",
    "print(round2.shape)\n",
    "print(companies.shape)"
   ]
  },
  {
   "cell_type": "markdown",
   "metadata": {},
   "source": [
    "### Checkpoint 1: Data Cleaning"
   ]
  },
  {
   "cell_type": "markdown",
   "metadata": {},
   "source": [
    "##### How many unique companies are present in rounds2?"
   ]
  },
  {
   "cell_type": "code",
   "execution_count": 4,
   "metadata": {},
   "outputs": [],
   "source": [
    "#Renaming column of round 2 from company_permalink -> permalink\n",
    "round2.rename(columns={\"company_permalink\": \"permalink\"}, inplace=True)\n",
    "\n",
    "#Converting permalink to lower case as there are cases where it has same value but case sensitive\n",
    "companies.permalink = companies.permalink.apply(lambda x : x.lower())\n",
    "round2.permalink = round2.permalink.apply(lambda x : x.lower())"
   ]
  },
  {
   "cell_type": "code",
   "execution_count": 5,
   "metadata": {},
   "outputs": [
    {
     "name": "stdout",
     "output_type": "stream",
     "text": [
      "There are total  66368  unique companies in round2.\n"
     ]
    }
   ],
   "source": [
    "print(\"There are total \", round2.permalink.unique().shape[0], \" unique companies in round2.\")"
   ]
  },
  {
   "cell_type": "markdown",
   "metadata": {},
   "source": [
    "##### How many unique companies are present in companies?"
   ]
  },
  {
   "cell_type": "code",
   "execution_count": 6,
   "metadata": {},
   "outputs": [
    {
     "name": "stdout",
     "output_type": "stream",
     "text": [
      "There are total  66368  unique companies in companies table.\n"
     ]
    }
   ],
   "source": [
    "print(\"There are total \", companies.permalink.unique().shape[0], \" unique companies in companies table.\")"
   ]
  },
  {
   "cell_type": "markdown",
   "metadata": {},
   "source": [
    "##### In the companies data frame, which column can be used as the unique key for each company? \n",
    "--> permalink"
   ]
  },
  {
   "cell_type": "markdown",
   "metadata": {},
   "source": [
    "##### Are there any companies in the rounds2 file which are not present in companies? "
   ]
  },
  {
   "cell_type": "code",
   "execution_count": 7,
   "metadata": {},
   "outputs": [
    {
     "data": {
      "text/plain": [
       "True    66368\n",
       "Name: permalink, dtype: int64"
      ]
     },
     "execution_count": 7,
     "metadata": {},
     "output_type": "execute_result"
    }
   ],
   "source": [
    "companies[\"permalink\"].isin(round2[\"permalink\"]).value_counts()"
   ]
  },
  {
   "cell_type": "markdown",
   "metadata": {},
   "source": [
    "As number of unique companies and the number of companies in the round2 which are in comapnies table is same, there are NO missing companies which are in round2 but not in companies."
   ]
  },
  {
   "cell_type": "markdown",
   "metadata": {},
   "source": [
    "##### Merge the two data frames so that all variables (columns) in the companies frame are added to the rounds2 data frame. Name the merged frame master_frame. How many observations are present in master_frame?"
   ]
  },
  {
   "cell_type": "code",
   "execution_count": 8,
   "metadata": {},
   "outputs": [
    {
     "name": "stdout",
     "output_type": "stream",
     "text": [
      "(114949, 15)\n"
     ]
    },
    {
     "data": {
      "text/html": [
       "<div>\n",
       "<style scoped>\n",
       "    .dataframe tbody tr th:only-of-type {\n",
       "        vertical-align: middle;\n",
       "    }\n",
       "\n",
       "    .dataframe tbody tr th {\n",
       "        vertical-align: top;\n",
       "    }\n",
       "\n",
       "    .dataframe thead th {\n",
       "        text-align: right;\n",
       "    }\n",
       "</style>\n",
       "<table border=\"1\" class=\"dataframe\">\n",
       "  <thead>\n",
       "    <tr style=\"text-align: right;\">\n",
       "      <th></th>\n",
       "      <th>permalink</th>\n",
       "      <th>funding_round_permalink</th>\n",
       "      <th>funding_round_type</th>\n",
       "      <th>funding_round_code</th>\n",
       "      <th>funded_at</th>\n",
       "      <th>raised_amount_usd</th>\n",
       "      <th>name</th>\n",
       "      <th>homepage_url</th>\n",
       "      <th>category_list</th>\n",
       "      <th>status</th>\n",
       "      <th>country_code</th>\n",
       "      <th>state_code</th>\n",
       "      <th>region</th>\n",
       "      <th>city</th>\n",
       "      <th>founded_at</th>\n",
       "    </tr>\n",
       "  </thead>\n",
       "  <tbody>\n",
       "    <tr>\n",
       "      <th>0</th>\n",
       "      <td>/organization/-fame</td>\n",
       "      <td>/funding-round/9a01d05418af9f794eebff7ace91f638</td>\n",
       "      <td>venture</td>\n",
       "      <td>B</td>\n",
       "      <td>05-01-2015</td>\n",
       "      <td>10000000.0</td>\n",
       "      <td>#fame</td>\n",
       "      <td>http://livfame.com</td>\n",
       "      <td>Media</td>\n",
       "      <td>operating</td>\n",
       "      <td>IND</td>\n",
       "      <td>16</td>\n",
       "      <td>Mumbai</td>\n",
       "      <td>Mumbai</td>\n",
       "      <td>NaN</td>\n",
       "    </tr>\n",
       "    <tr>\n",
       "      <th>1</th>\n",
       "      <td>/organization/-qounter</td>\n",
       "      <td>/funding-round/22dacff496eb7acb2b901dec1dfe5633</td>\n",
       "      <td>venture</td>\n",
       "      <td>A</td>\n",
       "      <td>14-10-2014</td>\n",
       "      <td>NaN</td>\n",
       "      <td>:Qounter</td>\n",
       "      <td>http://www.qounter.com</td>\n",
       "      <td>Application Platforms|Real Time|Social Network...</td>\n",
       "      <td>operating</td>\n",
       "      <td>USA</td>\n",
       "      <td>DE</td>\n",
       "      <td>DE - Other</td>\n",
       "      <td>Delaware City</td>\n",
       "      <td>04-09-2014</td>\n",
       "    </tr>\n",
       "    <tr>\n",
       "      <th>2</th>\n",
       "      <td>/organization/-qounter</td>\n",
       "      <td>/funding-round/b44fbb94153f6cdef13083530bb48030</td>\n",
       "      <td>seed</td>\n",
       "      <td>NaN</td>\n",
       "      <td>01-03-2014</td>\n",
       "      <td>700000.0</td>\n",
       "      <td>:Qounter</td>\n",
       "      <td>http://www.qounter.com</td>\n",
       "      <td>Application Platforms|Real Time|Social Network...</td>\n",
       "      <td>operating</td>\n",
       "      <td>USA</td>\n",
       "      <td>DE</td>\n",
       "      <td>DE - Other</td>\n",
       "      <td>Delaware City</td>\n",
       "      <td>04-09-2014</td>\n",
       "    </tr>\n",
       "    <tr>\n",
       "      <th>3</th>\n",
       "      <td>/organization/-the-one-of-them-inc-</td>\n",
       "      <td>/funding-round/650b8f704416801069bb178a1418776b</td>\n",
       "      <td>venture</td>\n",
       "      <td>B</td>\n",
       "      <td>30-01-2014</td>\n",
       "      <td>3406878.0</td>\n",
       "      <td>(THE) ONE of THEM,Inc.</td>\n",
       "      <td>http://oneofthem.jp</td>\n",
       "      <td>Apps|Games|Mobile</td>\n",
       "      <td>operating</td>\n",
       "      <td>NaN</td>\n",
       "      <td>NaN</td>\n",
       "      <td>NaN</td>\n",
       "      <td>NaN</td>\n",
       "      <td>NaN</td>\n",
       "    </tr>\n",
       "    <tr>\n",
       "      <th>4</th>\n",
       "      <td>/organization/0-6-com</td>\n",
       "      <td>/funding-round/5727accaeaa57461bd22a9bdd945382d</td>\n",
       "      <td>venture</td>\n",
       "      <td>A</td>\n",
       "      <td>19-03-2008</td>\n",
       "      <td>2000000.0</td>\n",
       "      <td>0-6.com</td>\n",
       "      <td>http://www.0-6.com</td>\n",
       "      <td>Curated Web</td>\n",
       "      <td>operating</td>\n",
       "      <td>CHN</td>\n",
       "      <td>22</td>\n",
       "      <td>Beijing</td>\n",
       "      <td>Beijing</td>\n",
       "      <td>01-01-2007</td>\n",
       "    </tr>\n",
       "  </tbody>\n",
       "</table>\n",
       "</div>"
      ],
      "text/plain": [
       "                             permalink  \\\n",
       "0                  /organization/-fame   \n",
       "1               /organization/-qounter   \n",
       "2               /organization/-qounter   \n",
       "3  /organization/-the-one-of-them-inc-   \n",
       "4                /organization/0-6-com   \n",
       "\n",
       "                           funding_round_permalink funding_round_type  \\\n",
       "0  /funding-round/9a01d05418af9f794eebff7ace91f638            venture   \n",
       "1  /funding-round/22dacff496eb7acb2b901dec1dfe5633            venture   \n",
       "2  /funding-round/b44fbb94153f6cdef13083530bb48030               seed   \n",
       "3  /funding-round/650b8f704416801069bb178a1418776b            venture   \n",
       "4  /funding-round/5727accaeaa57461bd22a9bdd945382d            venture   \n",
       "\n",
       "  funding_round_code   funded_at  raised_amount_usd                    name  \\\n",
       "0                  B  05-01-2015         10000000.0                   #fame   \n",
       "1                  A  14-10-2014                NaN                :Qounter   \n",
       "2                NaN  01-03-2014           700000.0                :Qounter   \n",
       "3                  B  30-01-2014          3406878.0  (THE) ONE of THEM,Inc.   \n",
       "4                  A  19-03-2008          2000000.0                 0-6.com   \n",
       "\n",
       "             homepage_url                                      category_list  \\\n",
       "0      http://livfame.com                                              Media   \n",
       "1  http://www.qounter.com  Application Platforms|Real Time|Social Network...   \n",
       "2  http://www.qounter.com  Application Platforms|Real Time|Social Network...   \n",
       "3     http://oneofthem.jp                                  Apps|Games|Mobile   \n",
       "4      http://www.0-6.com                                        Curated Web   \n",
       "\n",
       "      status country_code state_code      region           city  founded_at  \n",
       "0  operating          IND         16      Mumbai         Mumbai         NaN  \n",
       "1  operating          USA         DE  DE - Other  Delaware City  04-09-2014  \n",
       "2  operating          USA         DE  DE - Other  Delaware City  04-09-2014  \n",
       "3  operating          NaN        NaN         NaN            NaN         NaN  \n",
       "4  operating          CHN         22     Beijing        Beijing  01-01-2007  "
      ]
     },
     "execution_count": 8,
     "metadata": {},
     "output_type": "execute_result"
    }
   ],
   "source": [
    "master_frame = pd.merge(round2, companies, on=\"permalink\")\n",
    "print(master_frame.shape)\n",
    "master_frame.head()"
   ]
  },
  {
   "cell_type": "markdown",
   "metadata": {},
   "source": [
    "### Data Cleaning in Master Dataframe"
   ]
  },
  {
   "cell_type": "code",
   "execution_count": 9,
   "metadata": {},
   "outputs": [
    {
     "data": {
      "text/plain": [
       "permalink                      0\n",
       "funding_round_permalink        0\n",
       "funding_round_type             0\n",
       "funding_round_code         83809\n",
       "funded_at                      0\n",
       "raised_amount_usd          19990\n",
       "name                           1\n",
       "homepage_url                6134\n",
       "category_list               3410\n",
       "status                         0\n",
       "country_code                8678\n",
       "state_code                 10946\n",
       "region                     10167\n",
       "city                       10164\n",
       "founded_at                 20521\n",
       "dtype: int64"
      ]
     },
     "execution_count": 9,
     "metadata": {},
     "output_type": "execute_result"
    }
   ],
   "source": [
    "master_frame.isnull().sum()"
   ]
  },
  {
   "cell_type": "code",
   "execution_count": 10,
   "metadata": {},
   "outputs": [
    {
     "data": {
      "text/plain": [
       "array(['venture', 'seed', 'undisclosed', 'equity_crowdfunding',\n",
       "       'convertible_note', 'private_equity', 'debt_financing', 'angel',\n",
       "       'grant', 'secondary_market', 'post_ipo_equity', 'post_ipo_debt',\n",
       "       'product_crowdfunding', 'non_equity_assistance'], dtype=object)"
      ]
     },
     "execution_count": 10,
     "metadata": {},
     "output_type": "execute_result"
    }
   ],
   "source": [
    "master_frame[\"funding_round_type\"].unique()"
   ]
  },
  {
   "cell_type": "code",
   "execution_count": 11,
   "metadata": {},
   "outputs": [
    {
     "data": {
      "text/plain": [
       "permalink                      0\n",
       "funding_round_permalink        0\n",
       "funding_round_type             0\n",
       "funding_round_code         80885\n",
       "funded_at                      0\n",
       "raised_amount_usd          17624\n",
       "name                           1\n",
       "homepage_url                5163\n",
       "category_list                  0\n",
       "status                         0\n",
       "country_code                7007\n",
       "state_code                  9220\n",
       "region                      8462\n",
       "city                        8459\n",
       "founded_at                 18691\n",
       "dtype: int64"
      ]
     },
     "execution_count": 11,
     "metadata": {},
     "output_type": "execute_result"
    }
   ],
   "source": [
    "master_frame = master_frame[pd.notnull(master_frame[\"category_list\"])]\n",
    "master_frame.isnull().sum()"
   ]
  },
  {
   "cell_type": "code",
   "execution_count": 12,
   "metadata": {},
   "outputs": [
    {
     "data": {
      "text/plain": [
       "permalink                      0\n",
       "funding_round_permalink        0\n",
       "funding_round_type             0\n",
       "funding_round_code         75198\n",
       "funded_at                      0\n",
       "raised_amount_usd          16003\n",
       "name                           1\n",
       "homepage_url                4220\n",
       "category_list                  0\n",
       "status                         0\n",
       "country_code                   0\n",
       "state_code                  2213\n",
       "region                      1455\n",
       "city                        1452\n",
       "founded_at                 16063\n",
       "dtype: int64"
      ]
     },
     "execution_count": 12,
     "metadata": {},
     "output_type": "execute_result"
    }
   ],
   "source": [
    "master_frame = master_frame[pd.notnull(master_frame[\"country_code\"])]\n",
    "master_frame.isnull().sum()"
   ]
  },
  {
   "cell_type": "code",
   "execution_count": 13,
   "metadata": {},
   "outputs": [
    {
     "data": {
      "text/plain": [
       "permalink                      0\n",
       "funding_round_permalink        0\n",
       "funding_round_type             0\n",
       "funding_round_code         61753\n",
       "funded_at                      0\n",
       "raised_amount_usd              0\n",
       "name                           1\n",
       "homepage_url                3251\n",
       "category_list                  0\n",
       "status                         0\n",
       "country_code                   0\n",
       "state_code                  1731\n",
       "region                      1184\n",
       "city                        1181\n",
       "founded_at                 13369\n",
       "dtype: int64"
      ]
     },
     "execution_count": 13,
     "metadata": {},
     "output_type": "execute_result"
    }
   ],
   "source": [
    "master_frame = master_frame[pd.notnull(master_frame[\"raised_amount_usd\"])]\n",
    "master_frame.isnull().sum()"
   ]
  },
  {
   "cell_type": "markdown",
   "metadata": {},
   "source": [
    "For now we don't need funding_round_code, homepage_url, state_code, region, city and founded_at. <br>\n",
    "Hence Keeping the missing values for now."
   ]
  },
  {
   "cell_type": "code",
   "execution_count": 14,
   "metadata": {},
   "outputs": [
    {
     "name": "stdout",
     "output_type": "stream",
     "text": [
      "(88529, 15)\n"
     ]
    }
   ],
   "source": [
    "print(master_frame.shape)"
   ]
  },
  {
   "cell_type": "markdown",
   "metadata": {},
   "source": [
    "### Checkpoint 2: Funding Type Analysis"
   ]
  },
  {
   "cell_type": "markdown",
   "metadata": {},
   "source": [
    "##### Condition <br> Spark Funds wants to invest between 5 to 15 million USD per investment round"
   ]
  },
  {
   "cell_type": "code",
   "execution_count": 15,
   "metadata": {},
   "outputs": [],
   "source": [
    "investment_type = ['venture', 'seed', 'angel', 'private_equity']\n",
    "selected_funds = master_frame[master_frame[\"funding_round_type\"].isin(investment_type)]"
   ]
  },
  {
   "cell_type": "code",
   "execution_count": 103,
   "metadata": {},
   "outputs": [
    {
     "name": "stdout",
     "output_type": "stream",
     "text": [
      "\n",
      "\n",
      "MEAN\n",
      "funding_round_type\n",
      "angel             9.715739e+05\n",
      "private_equity    7.393849e+07\n",
      "seed              7.477937e+05\n",
      "venture           1.172422e+07\n",
      "Name: raised_amount_usd, dtype: float64\n",
      "\n",
      "\n",
      "MEDIAN\n",
      "funding_round_type\n",
      "angel               414906.0\n",
      "private_equity    20000000.0\n",
      "seed                300000.0\n",
      "venture            5000000.0\n",
      "Name: raised_amount_usd, dtype: float64\n",
      "\n",
      "\n",
      "SUM\n",
      "funding_round_type\n",
      "angel             4.274925e+09\n",
      "private_equity    1.345680e+11\n",
      "seed              1.577471e+10\n",
      "venture           5.605234e+11\n",
      "Name: raised_amount_usd, dtype: float64\n"
     ]
    }
   ],
   "source": [
    "# Most representative value of the investment amount based on type\n",
    "\n",
    "print(\"\\n\\nMEAN\")\n",
    "print(selected_funds.groupby(['funding_round_type'])['raised_amount_usd'].mean())\n",
    "print(\"\\n\\nMEDIAN\")\n",
    "print(selected_funds.groupby(['funding_round_type'])['raised_amount_usd'].median())\n",
    "print(\"\\n\\nSUM\")\n",
    "print(selected_funds.groupby(['funding_round_type'])['raised_amount_usd'].sum())"
   ]
  },
  {
   "cell_type": "code",
   "execution_count": 17,
   "metadata": {},
   "outputs": [],
   "source": [
    "#Applying condition for the Spark Funds"
   ]
  },
  {
   "cell_type": "code",
   "execution_count": 105,
   "metadata": {},
   "outputs": [
    {
     "name": "stdout",
     "output_type": "stream",
     "text": [
      "venture           47809\n",
      "seed              21095\n",
      "angel              4400\n",
      "private_equity     1820\n",
      "Name: funding_round_type, dtype: int64\n",
      "\n",
      "\n",
      "Venture: \n",
      "  True     47809\n",
      "False    27315\n",
      "Name: funding_round_type, dtype: int64\n",
      "\n",
      "\n",
      "Private Equity: \n",
      "  False    73304\n",
      "True      1820\n",
      "Name: funding_round_type, dtype: int64\n"
     ]
    }
   ],
   "source": [
    "#Number of venture and private_equity\n",
    "print(selected_funds.funding_round_type.value_counts())\n",
    "print(\"\\n\\nVenture: \\n \", (selected_funds[\"funding_round_type\"] == \"venture\").value_counts())\n",
    "print(\"\\n\\nPrivate Equity: \\n \", (selected_funds[\"funding_round_type\"] == \"private_equity\").value_counts())"
   ]
  },
  {
   "cell_type": "code",
   "execution_count": 111,
   "metadata": {},
   "outputs": [
    {
     "data": {
      "image/png": "[encoded data removed]",
      "text/plain": [
       "<Figure size 360x360 with 1 Axes>"
      ]
     },
     "metadata": {
      "needs_background": "light"
     },
     "output_type": "display_data"
    }
   ],
   "source": [
    "#Finding the most suitable investment type as per the coditions mentioned by spark funds\n",
    "fund_round_grp = selected_funds.groupby('funding_round_type')['raised_amount_usd'].mean().reset_index()\n",
    "fund_round_grp.raised_amount_usd = round(fund_round_grp.raised_amount_usd/1000000, 4)\n",
    "sns.catplot(data = fund_round_grp, x=fund_round_grp['funding_round_type'], y= fund_round_grp['raised_amount_usd'], kind='bar')\n",
    "\n",
    "fund_round_grp = fund_round_grp.loc[(fund_round_grp[\"raised_amount_usd\"] >= 5) & (fund_round_grp[\"raised_amount_usd\"]<=15)]"
   ]
  },
  {
   "cell_type": "code",
   "execution_count": 112,
   "metadata": {},
   "outputs": [
    {
     "data": {
      "text/html": [
       "<div>\n",
       "<style scoped>\n",
       "    .dataframe tbody tr th:only-of-type {\n",
       "        vertical-align: middle;\n",
       "    }\n",
       "\n",
       "    .dataframe tbody tr th {\n",
       "        vertical-align: top;\n",
       "    }\n",
       "\n",
       "    .dataframe thead th {\n",
       "        text-align: right;\n",
       "    }\n",
       "</style>\n",
       "<table border=\"1\" class=\"dataframe\">\n",
       "  <thead>\n",
       "    <tr style=\"text-align: right;\">\n",
       "      <th></th>\n",
       "      <th>funding_round_type</th>\n",
       "      <th>raised_amount_usd</th>\n",
       "    </tr>\n",
       "  </thead>\n",
       "  <tbody>\n",
       "    <tr>\n",
       "      <th>3</th>\n",
       "      <td>venture</td>\n",
       "      <td>11.7242</td>\n",
       "    </tr>\n",
       "  </tbody>\n",
       "</table>\n",
       "</div>"
      ],
      "text/plain": [
       "  funding_round_type  raised_amount_usd\n",
       "3            venture            11.7242"
      ]
     },
     "execution_count": 112,
     "metadata": {},
     "output_type": "execute_result"
    }
   ],
   "source": [
    "fund_round_grp"
   ]
  },
  {
   "cell_type": "markdown",
   "metadata": {},
   "source": [
    "### <font color='RED'>Type of investment suitable for Spark Funds is <font color='BLUE'>venture</font></font>"
   ]
  },
  {
   "cell_type": "markdown",
   "metadata": {},
   "source": [
    "### Checkpoint 3: Country Analysis\n",
    "\n",
    "##### Spark Funds wants to see the top nine countries which have received the highest total funding (across ALL sectors for the chosen investment type)"
   ]
  },
  {
   "cell_type": "code",
   "execution_count": 113,
   "metadata": {},
   "outputs": [
    {
     "name": "stdout",
     "output_type": "stream",
     "text": [
      "(47809, 9)\n"
     ]
    },
    {
     "data": {
      "text/html": [
       "<div>\n",
       "<style scoped>\n",
       "    .dataframe tbody tr th:only-of-type {\n",
       "        vertical-align: middle;\n",
       "    }\n",
       "\n",
       "    .dataframe tbody tr th {\n",
       "        vertical-align: top;\n",
       "    }\n",
       "\n",
       "    .dataframe thead th {\n",
       "        text-align: right;\n",
       "    }\n",
       "</style>\n",
       "<table border=\"1\" class=\"dataframe\">\n",
       "  <thead>\n",
       "    <tr style=\"text-align: right;\">\n",
       "      <th></th>\n",
       "      <th>permalink</th>\n",
       "      <th>funding_round_type</th>\n",
       "      <th>raised_amount_usd</th>\n",
       "      <th>name</th>\n",
       "      <th>category_list</th>\n",
       "      <th>status</th>\n",
       "      <th>country_code</th>\n",
       "      <th>primary_sector</th>\n",
       "      <th>main_sector</th>\n",
       "    </tr>\n",
       "  </thead>\n",
       "  <tbody>\n",
       "    <tr>\n",
       "      <th>0</th>\n",
       "      <td>/organization/-fame</td>\n",
       "      <td>venture</td>\n",
       "      <td>10000000.0</td>\n",
       "      <td>#fame</td>\n",
       "      <td>Media</td>\n",
       "      <td>operating</td>\n",
       "      <td>IND</td>\n",
       "      <td>media</td>\n",
       "      <td>Entertainment</td>\n",
       "    </tr>\n",
       "    <tr>\n",
       "      <th>2</th>\n",
       "      <td>/organization/0-6-com</td>\n",
       "      <td>venture</td>\n",
       "      <td>2000000.0</td>\n",
       "      <td>0-6.com</td>\n",
       "      <td>Curated Web</td>\n",
       "      <td>operating</td>\n",
       "      <td>CHN</td>\n",
       "      <td>curated web</td>\n",
       "      <td>News, Search and Messaging</td>\n",
       "    </tr>\n",
       "    <tr>\n",
       "      <th>5</th>\n",
       "      <td>/organization/0ndine-biomedical-inc</td>\n",
       "      <td>venture</td>\n",
       "      <td>719491.0</td>\n",
       "      <td>Ondine Biomedical Inc.</td>\n",
       "      <td>Biotechnology</td>\n",
       "      <td>operating</td>\n",
       "      <td>CAN</td>\n",
       "      <td>biotechnology</td>\n",
       "      <td>Cleantech / Semiconductors</td>\n",
       "    </tr>\n",
       "    <tr>\n",
       "      <th>7</th>\n",
       "      <td>/organization/0xdata</td>\n",
       "      <td>venture</td>\n",
       "      <td>20000000.0</td>\n",
       "      <td>H2O.ai</td>\n",
       "      <td>Analytics</td>\n",
       "      <td>operating</td>\n",
       "      <td>USA</td>\n",
       "      <td>analytics</td>\n",
       "      <td>Social, Finance, Analytics, Advertising</td>\n",
       "    </tr>\n",
       "    <tr>\n",
       "      <th>8</th>\n",
       "      <td>/organization/0xdata</td>\n",
       "      <td>venture</td>\n",
       "      <td>1700000.0</td>\n",
       "      <td>H2O.ai</td>\n",
       "      <td>Analytics</td>\n",
       "      <td>operating</td>\n",
       "      <td>USA</td>\n",
       "      <td>analytics</td>\n",
       "      <td>Social, Finance, Analytics, Advertising</td>\n",
       "    </tr>\n",
       "  </tbody>\n",
       "</table>\n",
       "</div>"
      ],
      "text/plain": [
       "                             permalink funding_round_type  raised_amount_usd  \\\n",
       "0                  /organization/-fame            venture         10000000.0   \n",
       "2                /organization/0-6-com            venture          2000000.0   \n",
       "5  /organization/0ndine-biomedical-inc            venture           719491.0   \n",
       "7                 /organization/0xdata            venture         20000000.0   \n",
       "8                 /organization/0xdata            venture          1700000.0   \n",
       "\n",
       "                     name  category_list     status country_code  \\\n",
       "0                   #fame          Media  operating          IND   \n",
       "2                 0-6.com    Curated Web  operating          CHN   \n",
       "5  Ondine Biomedical Inc.  Biotechnology  operating          CAN   \n",
       "7                  H2O.ai      Analytics  operating          USA   \n",
       "8                  H2O.ai      Analytics  operating          USA   \n",
       "\n",
       "  primary_sector                              main_sector  \n",
       "0          media                            Entertainment  \n",
       "2    curated web               News, Search and Messaging  \n",
       "5  biotechnology               Cleantech / Semiconductors  \n",
       "7      analytics  Social, Finance, Analytics, Advertising  \n",
       "8      analytics  Social, Finance, Analytics, Advertising  "
      ]
     },
     "execution_count": 113,
     "metadata": {},
     "output_type": "execute_result"
    }
   ],
   "source": [
    "#Separating venture funding type from master dataframe\n",
    "\n",
    "venture_fund = master_frame[master_frame[\"funding_round_type\"].isin([\"venture\"])]\n",
    "print(venture_fund.shape)\n",
    "venture_fund.head()"
   ]
  },
  {
   "cell_type": "code",
   "execution_count": 114,
   "metadata": {},
   "outputs": [
    {
     "data": {
      "text/html": [
       "<div>\n",
       "<style scoped>\n",
       "    .dataframe tbody tr th:only-of-type {\n",
       "        vertical-align: middle;\n",
       "    }\n",
       "\n",
       "    .dataframe tbody tr th {\n",
       "        vertical-align: top;\n",
       "    }\n",
       "\n",
       "    .dataframe thead th {\n",
       "        text-align: right;\n",
       "    }\n",
       "</style>\n",
       "<table border=\"1\" class=\"dataframe\">\n",
       "  <thead>\n",
       "    <tr style=\"text-align: right;\">\n",
       "      <th></th>\n",
       "      <th>country_code</th>\n",
       "      <th>raised_amount_usd</th>\n",
       "    </tr>\n",
       "  </thead>\n",
       "  <tbody>\n",
       "    <tr>\n",
       "      <th>94</th>\n",
       "      <td>USA</td>\n",
       "      <td>4.200680e+11</td>\n",
       "    </tr>\n",
       "    <tr>\n",
       "      <th>15</th>\n",
       "      <td>CHN</td>\n",
       "      <td>3.933892e+10</td>\n",
       "    </tr>\n",
       "    <tr>\n",
       "      <th>29</th>\n",
       "      <td>GBR</td>\n",
       "      <td>2.007281e+10</td>\n",
       "    </tr>\n",
       "    <tr>\n",
       "      <th>39</th>\n",
       "      <td>IND</td>\n",
       "      <td>1.426151e+10</td>\n",
       "    </tr>\n",
       "    <tr>\n",
       "      <th>12</th>\n",
       "      <td>CAN</td>\n",
       "      <td>9.482218e+09</td>\n",
       "    </tr>\n",
       "    <tr>\n",
       "      <th>28</th>\n",
       "      <td>FRA</td>\n",
       "      <td>7.226851e+09</td>\n",
       "    </tr>\n",
       "    <tr>\n",
       "      <th>42</th>\n",
       "      <td>ISR</td>\n",
       "      <td>6.854350e+09</td>\n",
       "    </tr>\n",
       "    <tr>\n",
       "      <th>21</th>\n",
       "      <td>DEU</td>\n",
       "      <td>6.306922e+09</td>\n",
       "    </tr>\n",
       "    <tr>\n",
       "      <th>45</th>\n",
       "      <td>JPN</td>\n",
       "      <td>3.167647e+09</td>\n",
       "    </tr>\n",
       "  </tbody>\n",
       "</table>\n",
       "</div>"
      ],
      "text/plain": [
       "   country_code  raised_amount_usd\n",
       "94          USA       4.200680e+11\n",
       "15          CHN       3.933892e+10\n",
       "29          GBR       2.007281e+10\n",
       "39          IND       1.426151e+10\n",
       "12          CAN       9.482218e+09\n",
       "28          FRA       7.226851e+09\n",
       "42          ISR       6.854350e+09\n",
       "21          DEU       6.306922e+09\n",
       "45          JPN       3.167647e+09"
      ]
     },
     "execution_count": 114,
     "metadata": {},
     "output_type": "execute_result"
    }
   ],
   "source": [
    "#Grouping on top 9 countries which has received max total funding\n",
    "\n",
    "top9 = venture_fund.groupby('country_code')['raised_amount_usd'].sum().reset_index().sort_values(['raised_amount_usd'], ascending =False).head(9)\n",
    "top9"
   ]
  },
  {
   "cell_type": "markdown",
   "metadata": {},
   "source": [
    "##### From the above list the English speaking contries are\n",
    "-  USA\n",
    "-  GBR\n",
    "-  IND\n",
    "-  CAN\n"
   ]
  },
  {
   "cell_type": "code",
   "execution_count": 23,
   "metadata": {},
   "outputs": [
    {
     "data": {
      "text/html": [
       "<div>\n",
       "<style scoped>\n",
       "    .dataframe tbody tr th:only-of-type {\n",
       "        vertical-align: middle;\n",
       "    }\n",
       "\n",
       "    .dataframe tbody tr th {\n",
       "        vertical-align: top;\n",
       "    }\n",
       "\n",
       "    .dataframe thead th {\n",
       "        text-align: right;\n",
       "    }\n",
       "</style>\n",
       "<table border=\"1\" class=\"dataframe\">\n",
       "  <thead>\n",
       "    <tr style=\"text-align: right;\">\n",
       "      <th></th>\n",
       "      <th>country_code</th>\n",
       "      <th>raised_amount_usd</th>\n",
       "    </tr>\n",
       "  </thead>\n",
       "  <tbody>\n",
       "    <tr>\n",
       "      <th>94</th>\n",
       "      <td>USA</td>\n",
       "      <td>4.200680e+11</td>\n",
       "    </tr>\n",
       "    <tr>\n",
       "      <th>29</th>\n",
       "      <td>GBR</td>\n",
       "      <td>2.007281e+10</td>\n",
       "    </tr>\n",
       "    <tr>\n",
       "      <th>39</th>\n",
       "      <td>IND</td>\n",
       "      <td>1.426151e+10</td>\n",
       "    </tr>\n",
       "  </tbody>\n",
       "</table>\n",
       "</div>"
      ],
      "text/plain": [
       "   country_code  raised_amount_usd\n",
       "94          USA       4.200680e+11\n",
       "29          GBR       2.007281e+10\n",
       "39          IND       1.426151e+10"
      ]
     },
     "execution_count": 23,
     "metadata": {},
     "output_type": "execute_result"
    }
   ],
   "source": [
    "english_speaking = ['USA', 'GBR', 'CAD', 'IND']\n",
    "\n",
    "#Top 3 english speaking countries are\n",
    "\n",
    "top3 = top9[top9['country_code'].isin(english_speaking)]\n",
    "top3"
   ]
  },
  {
   "cell_type": "markdown",
   "metadata": {},
   "source": [
    "##### The top three English-speaking countries in the data frame"
   ]
  },
  {
   "cell_type": "code",
   "execution_count": 24,
   "metadata": {},
   "outputs": [
    {
     "data": {
      "text/plain": [
       "(38803, 15)"
      ]
     },
     "execution_count": 24,
     "metadata": {},
     "output_type": "execute_result"
    }
   ],
   "source": [
    "contry_venture_fund = venture_fund[venture_fund['country_code'].isin(english_speaking)]\n",
    "contry_venture_fund.shape"
   ]
  },
  {
   "cell_type": "markdown",
   "metadata": {},
   "source": [
    "### Checkpoint 4: Sector Analysis 1"
   ]
  },
  {
   "cell_type": "markdown",
   "metadata": {},
   "source": [
    "##### Given Rule\n",
    "-  The first string before the vertical bar will be considered the primary sector from category_list\t"
   ]
  },
  {
   "cell_type": "code",
   "execution_count": 25,
   "metadata": {},
   "outputs": [
    {
     "name": "stdout",
     "output_type": "stream",
     "text": [
      "(88529, 15)\n",
      "<class 'pandas.core.frame.DataFrame'>\n",
      "Int64Index: 88529 entries, 0 to 114947\n",
      "Data columns (total 15 columns):\n",
      " #   Column                   Non-Null Count  Dtype  \n",
      "---  ------                   --------------  -----  \n",
      " 0   permalink                88529 non-null  object \n",
      " 1   funding_round_permalink  88529 non-null  object \n",
      " 2   funding_round_type       88529 non-null  object \n",
      " 3   funding_round_code       26776 non-null  object \n",
      " 4   funded_at                88529 non-null  object \n",
      " 5   raised_amount_usd        88529 non-null  float64\n",
      " 6   name                     88528 non-null  object \n",
      " 7   homepage_url             85278 non-null  object \n",
      " 8   category_list            88529 non-null  object \n",
      " 9   status                   88529 non-null  object \n",
      " 10  country_code             88529 non-null  object \n",
      " 11  state_code               86798 non-null  object \n",
      " 12  region                   87345 non-null  object \n",
      " 13  city                     87348 non-null  object \n",
      " 14  founded_at               75160 non-null  object \n",
      "dtypes: float64(1), object(14)\n",
      "memory usage: 10.8+ MB\n",
      "None\n",
      "Biotechnology                                             7621\n",
      "Software                                                  5659\n",
      "Health Care                                               2033\n",
      "Clean Technology                                          1846\n",
      "Mobile                                                    1733\n",
      "                                                          ... \n",
      "Optical Communications|Semiconductors|Wireless               1\n",
      "Internet of Things|Wearables                                 1\n",
      "Blogging Platforms|Networking|Social Media|Web Hosting       1\n",
      "Property Management|Real Estate|Search                       1\n",
      "Apps|Distribution|Ediscovery|Games|iOS|Mobile                1\n",
      "Name: category_list, Length: 21317, dtype: int64\n"
     ]
    }
   ],
   "source": [
    "print(master_frame.shape)\n",
    "print(master_frame.info())\n",
    "print(master_frame.category_list.value_counts())"
   ]
  },
  {
   "cell_type": "code",
   "execution_count": 26,
   "metadata": {},
   "outputs": [],
   "source": [
    "# Storing the primary sector as per the rule\n",
    "\n",
    "master_frame[\"primary_sector\"] = master_frame.category_list.apply(lambda x : x.split('|')[0] )"
   ]
  },
  {
   "cell_type": "code",
   "execution_count": 27,
   "metadata": {},
   "outputs": [],
   "source": [
    "temp =master_frame.primary_sector.unique()"
   ]
  },
  {
   "cell_type": "markdown",
   "metadata": {},
   "source": [
    "## Mapping of Sectors"
   ]
  },
  {
   "cell_type": "code",
   "execution_count": 28,
   "metadata": {},
   "outputs": [
    {
     "name": "stdout",
     "output_type": "stream",
     "text": [
      "<class 'pandas.core.frame.DataFrame'>\n",
      "Int64Index: 687 entries, 1 to 687\n",
      "Data columns (total 10 columns):\n",
      " #   Column                                   Non-Null Count  Dtype \n",
      "---  ------                                   --------------  ----- \n",
      " 0   category_list                            687 non-null    object\n",
      " 1   Automotive & Sports                      687 non-null    int64 \n",
      " 2   Blanks                                   687 non-null    int64 \n",
      " 3   Cleantech / Semiconductors               687 non-null    int64 \n",
      " 4   Entertainment                            687 non-null    int64 \n",
      " 5   Health                                   687 non-null    int64 \n",
      " 6   Manufacturing                            687 non-null    int64 \n",
      " 7   News, Search and Messaging               687 non-null    int64 \n",
      " 8   Others                                   687 non-null    int64 \n",
      " 9   Social, Finance, Analytics, Advertising  687 non-null    int64 \n",
      "dtypes: int64(9), object(1)\n",
      "memory usage: 59.0+ KB\n"
     ]
    }
   ],
   "source": [
    "mapping = pd.read_csv(\"Datasets/mapping.csv\")\n",
    "mapping = mapping[pd.notnull(mapping.category_list)]\n",
    "mapping.info()"
   ]
  },
  {
   "cell_type": "code",
   "execution_count": 29,
   "metadata": {},
   "outputs": [
    {
     "data": {
      "text/plain": [
       "category_list                              0\n",
       "Automotive & Sports                        0\n",
       "Blanks                                     0\n",
       "Cleantech / Semiconductors                 0\n",
       "Entertainment                              0\n",
       "Health                                     0\n",
       "Manufacturing                              0\n",
       "News, Search and Messaging                 0\n",
       "Others                                     0\n",
       "Social, Finance, Analytics, Advertising    0\n",
       "dtype: int64"
      ]
     },
     "execution_count": 29,
     "metadata": {},
     "output_type": "execute_result"
    }
   ],
   "source": [
    "mapping.isnull().sum()"
   ]
  },
  {
   "cell_type": "markdown",
   "metadata": {},
   "source": [
    "##### We need a column in mapping which contains the Sector for the category_list"
   ]
  },
  {
   "cell_type": "code",
   "execution_count": 30,
   "metadata": {},
   "outputs": [],
   "source": [
    "#Function return the sector (where value is 1 in the cat column)\n",
    "\n",
    "def get_sector(row):    \n",
    "    for c in mapping.columns:\n",
    "        if row[c] == 1:\n",
    "            return c\n",
    "        "
   ]
  },
  {
   "cell_type": "code",
   "execution_count": 31,
   "metadata": {},
   "outputs": [],
   "source": [
    "mapping['main_sector'] = mapping.apply(get_sector, axis =1)"
   ]
  },
  {
   "cell_type": "code",
   "execution_count": 32,
   "metadata": {},
   "outputs": [
    {
     "data": {
      "text/plain": [
       "Index(['category_list', 'main_sector'], dtype='object')"
      ]
     },
     "execution_count": 32,
     "metadata": {},
     "output_type": "execute_result"
    }
   ],
   "source": [
    "# We no more need encoding as we have category and sector columns\n",
    "mapping = pd.DataFrame(mapping, columns=['category_list', 'main_sector'])\n",
    "mapping.columns"
   ]
  },
  {
   "cell_type": "code",
   "execution_count": 33,
   "metadata": {},
   "outputs": [
    {
     "name": "stdout",
     "output_type": "stream",
     "text": [
      "<class 'pandas.core.frame.DataFrame'>\n",
      "Int64Index: 687 entries, 1 to 687\n",
      "Data columns (total 2 columns):\n",
      " #   Column          Non-Null Count  Dtype \n",
      "---  ------          --------------  ----- \n",
      " 0   primary_sector  687 non-null    object\n",
      " 1   main_sector     687 non-null    object\n",
      "dtypes: object(2)\n",
      "memory usage: 16.1+ KB\n"
     ]
    }
   ],
   "source": [
    "#To perform merge we need same column name hence renaming category_list -> primary_sector\n",
    "mapping.rename(columns={\"category_list\": \"primary_sector\"}, inplace=True)\n",
    "mapping.info()"
   ]
  },
  {
   "cell_type": "code",
   "execution_count": 34,
   "metadata": {},
   "outputs": [],
   "source": [
    "#Before Merging masater_frame and mapping we need to lowercase the common values to be on safer side\n",
    "master_frame.primary_sector = master_frame.primary_sector.apply(lambda x: x.lower())\n",
    "mapping.primary_sector = mapping.primary_sector.apply(lambda x: x.lower())"
   ]
  },
  {
   "cell_type": "markdown",
   "metadata": {},
   "source": [
    "### Mapping dataset has some problems (Need Data Cleaning)"
   ]
  },
  {
   "cell_type": "code",
   "execution_count": 35,
   "metadata": {},
   "outputs": [
    {
     "name": "stdout",
     "output_type": "stream",
     "text": [
      "['0notechnology' '0tural language processing' '0tural resources'\n",
      " '0vigation' 'a0lytics' 'alter0tive medicine' 'big data a0lytics'\n",
      " 'business a0lytics' 'can0bis' 'career ma0gement' 'chi0 internet'\n",
      " 'cloud ma0gement' 'contact ma0gement' 'digital rights ma0gement'\n",
      " 'digital sig0ge' 'document ma0gement' 'educatio0l games'\n",
      " 'energy ma0gement' 'energy storage' 'event ma0gement' 'fi0nce'\n",
      " 'fi0nce technology' 'fi0ncial exchanges' 'fi0ncial services'\n",
      " 'film distribution' 'fleet ma0gement' 'flowers' 'gover0nce'\n",
      " 'identity ma0gement' 'innovation ma0gement'\n",
      " 'intellectual asset ma0gement' 'investment ma0gement' 'it ma0gement'\n",
      " 'jour0lism' 'knowledge ma0gement' 'lead ma0gement' 'lotteries'\n",
      " 'low bid auctions' 'medical professio0ls' 'mobile a0lytics'\n",
      " 'multi-level marketing' 'perso0l branding' 'perso0l data'\n",
      " 'perso0l fi0nce' 'perso0l health' 'perso0lization' 'pervasive computing'\n",
      " 'plumbers' 'predictive a0lytics' 'professio0l networking'\n",
      " 'professio0l services' 'project ma0gement' 'promotio0l'\n",
      " 'property ma0gement' 'risk ma0gement' 'smart grid'\n",
      " 'social media ma0gement' 'social recruiting' 'supply chain ma0gement'\n",
      " 'task ma0gement' 'taxis' 'veteri0ry' 'virtual workforces'\n",
      " 'waste ma0gement' 'women'] \n",
      "\n",
      "\n",
      "['energy storage' 'enterprise 2.na' 'film distribution' 'flowers'\n",
      " 'lotteries' 'low bid auctions' 'multi-level marketing'\n",
      " 'pervasive computing' 'plumbers' 'smart grid' 'social recruiting' 'taxis'\n",
      " 'veterinary' 'virtual workforces' 'women'] \n",
      "\n",
      "\n",
      "['energy storage' 'film distribution' 'flowers' 'lotteries'\n",
      " 'low bid auctions' 'multi-level marketing' 'pervasive computing'\n",
      " 'plumbers' 'smart grid' 'social recruiting' 'taxis' 'veterinary'\n",
      " 'virtual workforces' 'women'] \n",
      "\n",
      "\n"
     ]
    }
   ],
   "source": [
    "list_cat_mapping = mapping.primary_sector.unique()\n",
    "list_cat_master = master_frame.primary_sector.unique()\n",
    "list_fin = np.setdiff1d(list_cat_mapping, list_cat_master)\n",
    "print(list_fin, \"\\n\\n\")\n",
    "\n",
    "# At most of the time 'na' is given as '0' Need to replace\n",
    "mapping.primary_sector= mapping.primary_sector.apply(lambda x: x.replace('0','na'))\n",
    "list_cat_mapping = mapping.primary_sector.unique()\n",
    "list_cat_master = master_frame.primary_sector.unique()\n",
    "list_fin = np.setdiff1d(list_cat_mapping, list_cat_master)\n",
    "print(list_fin, \"\\n\\n\")\n",
    "\n",
    "# In above list I can observe a value \"enterprise 2.na\"... need to replace with correct\n",
    "enterprise = master_frame.loc[master_frame['primary_sector'].str.contains('enterprise 2.', case=False)]\n",
    "enterprise\n",
    "\n",
    "# enterprise 2.na should be enterprise 2.0 (need to replace 2.na with 2.0)\n",
    "mapping.primary_sector= mapping.primary_sector.apply(lambda x: x.replace('2.na','2.0'))\n",
    "list_cat_mapping = mapping.primary_sector.unique()\n",
    "list_cat_master = master_frame.primary_sector.unique()\n",
    "list_fin = np.setdiff1d(list_cat_mapping, list_cat_master)\n",
    "print(list_fin, \"\\n\\n\")"
   ]
  },
  {
   "cell_type": "markdown",
   "metadata": {},
   "source": [
    "##### Merging mapping with master_frame to attach additional column of main_sector in master_frame"
   ]
  },
  {
   "cell_type": "code",
   "execution_count": 36,
   "metadata": {},
   "outputs": [
    {
     "name": "stdout",
     "output_type": "stream",
     "text": [
      "Index(['permalink', 'funding_round_permalink', 'funding_round_type',\n",
      "       'funding_round_code', 'funded_at', 'raised_amount_usd', 'name',\n",
      "       'homepage_url', 'category_list', 'status', 'country_code', 'state_code',\n",
      "       'region', 'city', 'founded_at', 'primary_sector', 'main_sector'],\n",
      "      dtype='object')\n",
      "(88529, 17)\n"
     ]
    },
    {
     "data": {
      "text/html": [
       "<div>\n",
       "<style scoped>\n",
       "    .dataframe tbody tr th:only-of-type {\n",
       "        vertical-align: middle;\n",
       "    }\n",
       "\n",
       "    .dataframe tbody tr th {\n",
       "        vertical-align: top;\n",
       "    }\n",
       "\n",
       "    .dataframe thead th {\n",
       "        text-align: right;\n",
       "    }\n",
       "</style>\n",
       "<table border=\"1\" class=\"dataframe\">\n",
       "  <thead>\n",
       "    <tr style=\"text-align: right;\">\n",
       "      <th></th>\n",
       "      <th>permalink</th>\n",
       "      <th>funding_round_permalink</th>\n",
       "      <th>funding_round_type</th>\n",
       "      <th>funding_round_code</th>\n",
       "      <th>funded_at</th>\n",
       "      <th>raised_amount_usd</th>\n",
       "      <th>name</th>\n",
       "      <th>homepage_url</th>\n",
       "      <th>category_list</th>\n",
       "      <th>status</th>\n",
       "      <th>country_code</th>\n",
       "      <th>state_code</th>\n",
       "      <th>region</th>\n",
       "      <th>city</th>\n",
       "      <th>founded_at</th>\n",
       "      <th>primary_sector</th>\n",
       "      <th>main_sector</th>\n",
       "    </tr>\n",
       "  </thead>\n",
       "  <tbody>\n",
       "    <tr>\n",
       "      <th>0</th>\n",
       "      <td>/organization/-fame</td>\n",
       "      <td>/funding-round/9a01d05418af9f794eebff7ace91f638</td>\n",
       "      <td>venture</td>\n",
       "      <td>B</td>\n",
       "      <td>05-01-2015</td>\n",
       "      <td>10000000.0</td>\n",
       "      <td>#fame</td>\n",
       "      <td>http://livfame.com</td>\n",
       "      <td>Media</td>\n",
       "      <td>operating</td>\n",
       "      <td>IND</td>\n",
       "      <td>16</td>\n",
       "      <td>Mumbai</td>\n",
       "      <td>Mumbai</td>\n",
       "      <td>NaN</td>\n",
       "      <td>media</td>\n",
       "      <td>Entertainment</td>\n",
       "    </tr>\n",
       "    <tr>\n",
       "      <th>1</th>\n",
       "      <td>/organization/-qounter</td>\n",
       "      <td>/funding-round/b44fbb94153f6cdef13083530bb48030</td>\n",
       "      <td>seed</td>\n",
       "      <td>NaN</td>\n",
       "      <td>01-03-2014</td>\n",
       "      <td>700000.0</td>\n",
       "      <td>:Qounter</td>\n",
       "      <td>http://www.qounter.com</td>\n",
       "      <td>Application Platforms|Real Time|Social Network...</td>\n",
       "      <td>operating</td>\n",
       "      <td>USA</td>\n",
       "      <td>DE</td>\n",
       "      <td>DE - Other</td>\n",
       "      <td>Delaware City</td>\n",
       "      <td>04-09-2014</td>\n",
       "      <td>application platforms</td>\n",
       "      <td>News, Search and Messaging</td>\n",
       "    </tr>\n",
       "    <tr>\n",
       "      <th>2</th>\n",
       "      <td>/organization/0-6-com</td>\n",
       "      <td>/funding-round/5727accaeaa57461bd22a9bdd945382d</td>\n",
       "      <td>venture</td>\n",
       "      <td>A</td>\n",
       "      <td>19-03-2008</td>\n",
       "      <td>2000000.0</td>\n",
       "      <td>0-6.com</td>\n",
       "      <td>http://www.0-6.com</td>\n",
       "      <td>Curated Web</td>\n",
       "      <td>operating</td>\n",
       "      <td>CHN</td>\n",
       "      <td>22</td>\n",
       "      <td>Beijing</td>\n",
       "      <td>Beijing</td>\n",
       "      <td>01-01-2007</td>\n",
       "      <td>curated web</td>\n",
       "      <td>News, Search and Messaging</td>\n",
       "    </tr>\n",
       "    <tr>\n",
       "      <th>3</th>\n",
       "      <td>/organization/01games-technology</td>\n",
       "      <td>/funding-round/7d53696f2b4f607a2f2a8cbb83d01839</td>\n",
       "      <td>undisclosed</td>\n",
       "      <td>NaN</td>\n",
       "      <td>01-07-2014</td>\n",
       "      <td>41250.0</td>\n",
       "      <td>01Games Technology</td>\n",
       "      <td>http://www.01games.hk/</td>\n",
       "      <td>Games</td>\n",
       "      <td>operating</td>\n",
       "      <td>HKG</td>\n",
       "      <td>NaN</td>\n",
       "      <td>Hong Kong</td>\n",
       "      <td>Hong Kong</td>\n",
       "      <td>NaN</td>\n",
       "      <td>games</td>\n",
       "      <td>Entertainment</td>\n",
       "    </tr>\n",
       "    <tr>\n",
       "      <th>4</th>\n",
       "      <td>/organization/0ndine-biomedical-inc</td>\n",
       "      <td>/funding-round/2b9d3ac293d5cdccbecff5c8cb0f327d</td>\n",
       "      <td>seed</td>\n",
       "      <td>NaN</td>\n",
       "      <td>11-09-2009</td>\n",
       "      <td>43360.0</td>\n",
       "      <td>Ondine Biomedical Inc.</td>\n",
       "      <td>http://ondinebio.com</td>\n",
       "      <td>Biotechnology</td>\n",
       "      <td>operating</td>\n",
       "      <td>CAN</td>\n",
       "      <td>BC</td>\n",
       "      <td>Vancouver</td>\n",
       "      <td>Vancouver</td>\n",
       "      <td>01-01-1997</td>\n",
       "      <td>biotechnology</td>\n",
       "      <td>Cleantech / Semiconductors</td>\n",
       "    </tr>\n",
       "  </tbody>\n",
       "</table>\n",
       "</div>"
      ],
      "text/plain": [
       "                             permalink  \\\n",
       "0                  /organization/-fame   \n",
       "1               /organization/-qounter   \n",
       "2                /organization/0-6-com   \n",
       "3     /organization/01games-technology   \n",
       "4  /organization/0ndine-biomedical-inc   \n",
       "\n",
       "                           funding_round_permalink funding_round_type  \\\n",
       "0  /funding-round/9a01d05418af9f794eebff7ace91f638            venture   \n",
       "1  /funding-round/b44fbb94153f6cdef13083530bb48030               seed   \n",
       "2  /funding-round/5727accaeaa57461bd22a9bdd945382d            venture   \n",
       "3  /funding-round/7d53696f2b4f607a2f2a8cbb83d01839        undisclosed   \n",
       "4  /funding-round/2b9d3ac293d5cdccbecff5c8cb0f327d               seed   \n",
       "\n",
       "  funding_round_code   funded_at  raised_amount_usd                    name  \\\n",
       "0                  B  05-01-2015         10000000.0                   #fame   \n",
       "1                NaN  01-03-2014           700000.0                :Qounter   \n",
       "2                  A  19-03-2008          2000000.0                 0-6.com   \n",
       "3                NaN  01-07-2014            41250.0      01Games Technology   \n",
       "4                NaN  11-09-2009            43360.0  Ondine Biomedical Inc.   \n",
       "\n",
       "             homepage_url                                      category_list  \\\n",
       "0      http://livfame.com                                              Media   \n",
       "1  http://www.qounter.com  Application Platforms|Real Time|Social Network...   \n",
       "2      http://www.0-6.com                                        Curated Web   \n",
       "3  http://www.01games.hk/                                              Games   \n",
       "4    http://ondinebio.com                                      Biotechnology   \n",
       "\n",
       "      status country_code state_code      region           city  founded_at  \\\n",
       "0  operating          IND         16      Mumbai         Mumbai         NaN   \n",
       "1  operating          USA         DE  DE - Other  Delaware City  04-09-2014   \n",
       "2  operating          CHN         22     Beijing        Beijing  01-01-2007   \n",
       "3  operating          HKG        NaN   Hong Kong      Hong Kong         NaN   \n",
       "4  operating          CAN         BC   Vancouver      Vancouver  01-01-1997   \n",
       "\n",
       "          primary_sector                 main_sector  \n",
       "0                  media               Entertainment  \n",
       "1  application platforms  News, Search and Messaging  \n",
       "2            curated web  News, Search and Messaging  \n",
       "3                  games               Entertainment  \n",
       "4          biotechnology  Cleantech / Semiconductors  "
      ]
     },
     "execution_count": 36,
     "metadata": {},
     "output_type": "execute_result"
    }
   ],
   "source": [
    "master_frame = pd.merge(master_frame, mapping, on = \"primary_sector\", how='left')\n",
    "print(master_frame.columns)\n",
    "print(master_frame.shape)\n",
    "master_frame.head()"
   ]
  },
  {
   "cell_type": "code",
   "execution_count": 37,
   "metadata": {},
   "outputs": [
    {
     "data": {
      "text/html": [
       "<div>\n",
       "<style scoped>\n",
       "    .dataframe tbody tr th:only-of-type {\n",
       "        vertical-align: middle;\n",
       "    }\n",
       "\n",
       "    .dataframe tbody tr th {\n",
       "        vertical-align: top;\n",
       "    }\n",
       "\n",
       "    .dataframe thead th {\n",
       "        text-align: right;\n",
       "    }\n",
       "</style>\n",
       "<table border=\"1\" class=\"dataframe\">\n",
       "  <thead>\n",
       "    <tr style=\"text-align: right;\">\n",
       "      <th></th>\n",
       "      <th>permalink</th>\n",
       "      <th>funding_round_type</th>\n",
       "      <th>raised_amount_usd</th>\n",
       "      <th>name</th>\n",
       "      <th>category_list</th>\n",
       "      <th>status</th>\n",
       "      <th>country_code</th>\n",
       "      <th>primary_sector</th>\n",
       "      <th>main_sector</th>\n",
       "    </tr>\n",
       "  </thead>\n",
       "  <tbody>\n",
       "    <tr>\n",
       "      <th>0</th>\n",
       "      <td>/organization/-fame</td>\n",
       "      <td>venture</td>\n",
       "      <td>10000000.0</td>\n",
       "      <td>#fame</td>\n",
       "      <td>Media</td>\n",
       "      <td>operating</td>\n",
       "      <td>IND</td>\n",
       "      <td>media</td>\n",
       "      <td>Entertainment</td>\n",
       "    </tr>\n",
       "    <tr>\n",
       "      <th>1</th>\n",
       "      <td>/organization/-qounter</td>\n",
       "      <td>seed</td>\n",
       "      <td>700000.0</td>\n",
       "      <td>:Qounter</td>\n",
       "      <td>Application Platforms|Real Time|Social Network...</td>\n",
       "      <td>operating</td>\n",
       "      <td>USA</td>\n",
       "      <td>application platforms</td>\n",
       "      <td>News, Search and Messaging</td>\n",
       "    </tr>\n",
       "    <tr>\n",
       "      <th>2</th>\n",
       "      <td>/organization/0-6-com</td>\n",
       "      <td>venture</td>\n",
       "      <td>2000000.0</td>\n",
       "      <td>0-6.com</td>\n",
       "      <td>Curated Web</td>\n",
       "      <td>operating</td>\n",
       "      <td>CHN</td>\n",
       "      <td>curated web</td>\n",
       "      <td>News, Search and Messaging</td>\n",
       "    </tr>\n",
       "    <tr>\n",
       "      <th>3</th>\n",
       "      <td>/organization/01games-technology</td>\n",
       "      <td>undisclosed</td>\n",
       "      <td>41250.0</td>\n",
       "      <td>01Games Technology</td>\n",
       "      <td>Games</td>\n",
       "      <td>operating</td>\n",
       "      <td>HKG</td>\n",
       "      <td>games</td>\n",
       "      <td>Entertainment</td>\n",
       "    </tr>\n",
       "    <tr>\n",
       "      <th>4</th>\n",
       "      <td>/organization/0ndine-biomedical-inc</td>\n",
       "      <td>seed</td>\n",
       "      <td>43360.0</td>\n",
       "      <td>Ondine Biomedical Inc.</td>\n",
       "      <td>Biotechnology</td>\n",
       "      <td>operating</td>\n",
       "      <td>CAN</td>\n",
       "      <td>biotechnology</td>\n",
       "      <td>Cleantech / Semiconductors</td>\n",
       "    </tr>\n",
       "  </tbody>\n",
       "</table>\n",
       "</div>"
      ],
      "text/plain": [
       "                             permalink funding_round_type  raised_amount_usd  \\\n",
       "0                  /organization/-fame            venture         10000000.0   \n",
       "1               /organization/-qounter               seed           700000.0   \n",
       "2                /organization/0-6-com            venture          2000000.0   \n",
       "3     /organization/01games-technology        undisclosed            41250.0   \n",
       "4  /organization/0ndine-biomedical-inc               seed            43360.0   \n",
       "\n",
       "                     name                                      category_list  \\\n",
       "0                   #fame                                              Media   \n",
       "1                :Qounter  Application Platforms|Real Time|Social Network...   \n",
       "2                 0-6.com                                        Curated Web   \n",
       "3      01Games Technology                                              Games   \n",
       "4  Ondine Biomedical Inc.                                      Biotechnology   \n",
       "\n",
       "      status country_code         primary_sector                 main_sector  \n",
       "0  operating          IND                  media               Entertainment  \n",
       "1  operating          USA  application platforms  News, Search and Messaging  \n",
       "2  operating          CHN            curated web  News, Search and Messaging  \n",
       "3  operating          HKG                  games               Entertainment  \n",
       "4  operating          CAN          biotechnology  Cleantech / Semiconductors  "
      ]
     },
     "execution_count": 37,
     "metadata": {},
     "output_type": "execute_result"
    }
   ],
   "source": [
    "#Removing unwanted columns\n",
    "master_frame = master_frame.drop(['funding_round_permalink', 'funding_round_code', 'city','funded_at', 'homepage_url', 'state_code', 'region', 'founded_at'], axis = 1)\n",
    "master_frame.head()"
   ]
  },
  {
   "cell_type": "markdown",
   "metadata": {},
   "source": [
    "##### Filtering dataframe for only three contries i.e. english_speaking = ['USA', 'GBR','IND'] and Funding type is venture"
   ]
  },
  {
   "cell_type": "code",
   "execution_count": 38,
   "metadata": {},
   "outputs": [
    {
     "name": "stdout",
     "output_type": "stream",
     "text": [
      "(38803, 9)\n"
     ]
    }
   ],
   "source": [
    "english_speaking = ['USA', 'GBR','IND']\n",
    "master_frame_cp5 = master_frame[(master_frame[\"country_code\"].isin(english_speaking)) & (master_frame[\"funding_round_type\"] == 'venture')]\n",
    "print(master_frame_cp5.shape)"
   ]
  },
  {
   "cell_type": "markdown",
   "metadata": {},
   "source": [
    "##### Filtering dataframe for investments range of 5-15 M USD"
   ]
  },
  {
   "cell_type": "code",
   "execution_count": 39,
   "metadata": {},
   "outputs": [
    {
     "name": "stdout",
     "output_type": "stream",
     "text": [
      "<class 'pandas.core.frame.DataFrame'>\n",
      "Int64Index: 13013 entries, 0 to 88518\n",
      "Data columns (total 9 columns):\n",
      " #   Column              Non-Null Count  Dtype  \n",
      "---  ------              --------------  -----  \n",
      " 0   permalink           13013 non-null  object \n",
      " 1   funding_round_type  13013 non-null  object \n",
      " 2   raised_amount_usd   13013 non-null  float64\n",
      " 3   name                13013 non-null  object \n",
      " 4   category_list       13013 non-null  object \n",
      " 5   status              13013 non-null  object \n",
      " 6   country_code        13013 non-null  object \n",
      " 7   primary_sector      13013 non-null  object \n",
      " 8   main_sector         13012 non-null  object \n",
      "dtypes: float64(1), object(8)\n",
      "memory usage: 1016.6+ KB\n"
     ]
    }
   ],
   "source": [
    "master_frame_cp5 = master_frame_cp5[(master_frame_cp5[\"raised_amount_usd\"] >= 5000000) & (master_frame_cp5[\"raised_amount_usd\"] <=15000000)]\n",
    "master_frame_cp5.info()"
   ]
  },
  {
   "cell_type": "code",
   "execution_count": 40,
   "metadata": {},
   "outputs": [
    {
     "data": {
      "image/png": "[encoded data removed]",
      "text/plain": [
       "<Figure size 360x360 with 1 Axes>"
      ]
     },
     "metadata": {
      "needs_background": "light"
     },
     "output_type": "display_data"
    },
    {
     "data": {
      "image/png": "[encoded data removed]",
      "text/plain": [
       "<Figure size 1080x1080 with 1 Axes>"
      ]
     },
     "metadata": {
      "needs_background": "light"
     },
     "output_type": "display_data"
    }
   ],
   "source": [
    "sns.catplot(data=master_frame_cp5, y=master_frame_cp5['raised_amount_usd'], x=master_frame_cp5['country_code'], kind='bar')\n",
    "plt.show()\n",
    "\n",
    "sns.catplot(data=master_frame_cp5, y=master_frame_cp5['raised_amount_usd'], x=master_frame_cp5['main_sector'], kind='bar', height=15)\n",
    "plt.show()"
   ]
  },
  {
   "cell_type": "markdown",
   "metadata": {},
   "source": [
    "##### Creating separate Datafrae for seaparate countries"
   ]
  },
  {
   "cell_type": "code",
   "execution_count": 41,
   "metadata": {},
   "outputs": [],
   "source": [
    "USA = master_frame_cp5[master_frame_cp5['country_code'] == 'USA']\n",
    "GBR = master_frame_cp5[master_frame_cp5['country_code'] == 'GBR']\n",
    "IND = master_frame_cp5[master_frame_cp5['country_code'] == 'IND']"
   ]
  },
  {
   "cell_type": "markdown",
   "metadata": {},
   "source": [
    "##### Total number of investments (count)"
   ]
  },
  {
   "cell_type": "code",
   "execution_count": 42,
   "metadata": {},
   "outputs": [
    {
     "name": "stdout",
     "output_type": "stream",
     "text": [
      "Total Number of investments in the USA is  12064\n",
      "Total Number of investments in the Britan is  621\n",
      "Total Number of investments in the India is  328\n"
     ]
    }
   ],
   "source": [
    "# Total number of investments (count)\n",
    "\n",
    "print(\"Total Number of investments in the USA is \", USA.shape[0])\n",
    "print(\"Total Number of investments in the Britan is \", GBR.shape[0])\n",
    "print(\"Total Number of investments in the India is \", IND.shape[0])"
   ]
  },
  {
   "cell_type": "markdown",
   "metadata": {},
   "source": [
    "##### Total amount of investment (USD)"
   ]
  },
  {
   "cell_type": "code",
   "execution_count": 43,
   "metadata": {},
   "outputs": [
    {
     "name": "stdout",
     "output_type": "stream",
     "text": [
      "Total Number of investments in the USA is  107766584223.0\n",
      "Total Number of investments in the Britan is  5379078691.0\n",
      "Total Number of investments in the India is  2949543602.0\n"
     ]
    }
   ],
   "source": [
    "#Total amount of investment (USD)\n",
    "print(\"Total Number of investments in the USA is \", USA.raised_amount_usd.sum())\n",
    "print(\"Total Number of investments in the Britan is \", GBR.raised_amount_usd.sum())\n",
    "print(\"Total Number of investments in the India is \", IND.raised_amount_usd.sum())"
   ]
  },
  {
   "cell_type": "markdown",
   "metadata": {},
   "source": [
    "##### Sector based distributions (based on count of investments)"
   ]
  },
  {
   "cell_type": "code",
   "execution_count": 44,
   "metadata": {},
   "outputs": [
    {
     "name": "stdout",
     "output_type": "stream",
     "text": [
      "\n",
      " Others                                     2950\n",
      "Social, Finance, Analytics, Advertising    2714\n",
      "Cleantech / Semiconductors                 2350\n",
      "News, Search and Messaging                 1583\n",
      "Health                                      909\n",
      "Manufacturing                               799\n",
      "Entertainment                               591\n",
      "Automotive & Sports                         167\n",
      "Name: main_sector, dtype: int64\n"
     ]
    },
    {
     "data": {
      "image/png": "[encoded data removed]",
      "text/plain": [
       "<Figure size 432x288 with 1 Axes>"
      ]
     },
     "metadata": {
      "needs_background": "light"
     },
     "output_type": "display_data"
    },
    {
     "name": "stdout",
     "output_type": "stream",
     "text": [
      "\n",
      "\n",
      "\n",
      "\n",
      " Others                                     147\n",
      "Social, Finance, Analytics, Advertising    133\n",
      "Cleantech / Semiconductors                 130\n",
      "News, Search and Messaging                  73\n",
      "Entertainment                               56\n",
      "Manufacturing                               42\n",
      "Health                                      24\n",
      "Automotive & Sports                         16\n",
      "Name: main_sector, dtype: int64\n"
     ]
    },
    {
     "data": {
      "image/png": "[encoded data removed]",
      "text/plain": [
       "<Figure size 432x288 with 1 Axes>"
      ]
     },
     "metadata": {
      "needs_background": "light"
     },
     "output_type": "display_data"
    },
    {
     "name": "stdout",
     "output_type": "stream",
     "text": [
      "\n",
      "\n",
      "\n",
      "\n",
      " Others                                     110\n",
      "Social, Finance, Analytics, Advertising     60\n",
      "News, Search and Messaging                  52\n",
      "Entertainment                               33\n",
      "Manufacturing                               21\n",
      "Cleantech / Semiconductors                  20\n",
      "Health                                      19\n",
      "Automotive & Sports                         13\n",
      "Name: main_sector, dtype: int64\n"
     ]
    },
    {
     "data": {
      "image/png": "[encoded data removed]",
      "text/plain": [
       "<Figure size 432x288 with 1 Axes>"
      ]
     },
     "metadata": {
      "needs_background": "light"
     },
     "output_type": "display_data"
    },
    {
     "name": "stdout",
     "output_type": "stream",
     "text": [
      "\n",
      "\n",
      "\n"
     ]
    }
   ],
   "source": [
    "#USA\n",
    "\n",
    "print(\"\\n\", USA.main_sector.value_counts())\n",
    "USA.main_sector.value_counts().plot(kind='bar')\n",
    "plt.show()\n",
    "print(\"\\n\\n\")\n",
    "\n",
    "#GBR\n",
    "\n",
    "print(\"\\n\", GBR.main_sector.value_counts())\n",
    "GBR.main_sector.value_counts().plot(kind='bar')\n",
    "plt.show()\n",
    "print(\"\\n\\n\")\n",
    "\n",
    "#IND\n",
    "\n",
    "print(\"\\n\", IND.main_sector.value_counts())\n",
    "IND.main_sector.value_counts().plot(kind='bar')\n",
    "plt.show()\n",
    "print(\"\\n\\n\")"
   ]
  },
  {
   "cell_type": "markdown",
   "metadata": {},
   "source": [
    "##### For the top sector count-wise, which company received the highest investment?"
   ]
  },
  {
   "cell_type": "code",
   "execution_count": 45,
   "metadata": {},
   "outputs": [
    {
     "name": "stdout",
     "output_type": "stream",
     "text": [
      "                           raised_amount_usd\n",
      "permalink                                   \n",
      "/organization/virtustream         64300000.0 \n",
      "\n",
      "\n",
      "                           raised_amount_usd\n",
      "permalink                                   \n",
      "/organization/shotspotter         67933006.0 \n",
      "\n",
      "\n"
     ]
    }
   ],
   "source": [
    "# USA Top Company for Sector Others\n",
    "USA_other_pivot = pd.pivot_table(data = USA[USA.main_sector == 'Others'], values='raised_amount_usd', index='permalink', aggfunc =sum)\n",
    "USA_other_pivot = USA_other_pivot.sort_values(by = 'raised_amount_usd', ascending=False)\n",
    "print(USA_other_pivot.head(1),\"\\n\\n\")\n",
    "\n",
    "# USA Top Company for Sector Others\n",
    "USA_other_pivot = pd.pivot_table(data = USA[USA.main_sector == 'Social, Finance, Analytics, Advertising'], values='raised_amount_usd', index='permalink', aggfunc =sum)\n",
    "USA_other_pivot = USA_other_pivot.sort_values(by = 'raised_amount_usd', ascending=False)\n",
    "print(USA_other_pivot.head(1),\"\\n\\n\")"
   ]
  },
  {
   "cell_type": "code",
   "execution_count": 46,
   "metadata": {},
   "outputs": [
    {
     "name": "stdout",
     "output_type": "stream",
     "text": [
      "                              raised_amount_usd\n",
      "permalink                                      \n",
      "/organization/electric-cloud         37000000.0 \n",
      "\n",
      "\n",
      "                                     raised_amount_usd\n",
      "permalink                                             \n",
      "/organization/celltick-technologies         37500000.0 \n",
      "\n",
      "\n"
     ]
    }
   ],
   "source": [
    "# GBR Top Company for Sector Others\n",
    "GBR_other_pivot = pd.pivot_table(data = GBR[GBR.main_sector == 'Others'], values='raised_amount_usd', index='permalink', aggfunc =sum)\n",
    "GBR_other_pivot = GBR_other_pivot.sort_values(by = 'raised_amount_usd', ascending=False)\n",
    "print(GBR_other_pivot.head(1),\"\\n\\n\")\n",
    "\n",
    "# GBR Top Company for Sector Social, Finance, Analytics, Advertising\n",
    "GBR_other_pivot = pd.pivot_table(data = GBR[GBR.main_sector == 'Social, Finance, Analytics, Advertising'], values='raised_amount_usd', index='permalink', aggfunc =sum)\n",
    "GBR_other_pivot = GBR_other_pivot.sort_values(by = 'raised_amount_usd', ascending=False)\n",
    "print(GBR_other_pivot.head(1),\"\\n\\n\")"
   ]
  },
  {
   "cell_type": "code",
   "execution_count": 47,
   "metadata": {},
   "outputs": [
    {
     "name": "stdout",
     "output_type": "stream",
     "text": [
      "                            raised_amount_usd\n",
      "permalink                                    \n",
      "/organization/firstcry-com         39000000.0 \n",
      "\n",
      "\n",
      "                               raised_amount_usd\n",
      "permalink                                       \n",
      "/organization/manthan-systems         50700000.0 \n",
      "\n",
      "\n"
     ]
    }
   ],
   "source": [
    "# IND Top Company for Sector Others\n",
    "IND_other_pivot = pd.pivot_table(data = IND[IND.main_sector == 'Others'], values='raised_amount_usd', index='permalink', aggfunc =sum)\n",
    "IND_other_pivot = IND_other_pivot.sort_values(by = 'raised_amount_usd', ascending=False)\n",
    "print(IND_other_pivot.head(1),\"\\n\\n\")\n",
    "\n",
    "# IND Top Company for Sector Others\n",
    "IND_other_pivot = pd.pivot_table(data = IND[IND.main_sector == 'Social, Finance, Analytics, Advertising'], values='raised_amount_usd', index='permalink', aggfunc =sum)\n",
    "IND_other_pivot = IND_other_pivot.sort_values(by = 'raised_amount_usd', ascending=False)\n",
    "print(IND_other_pivot.head(1),\"\\n\\n\")"
   ]
  },
  {
   "cell_type": "markdown",
   "metadata": {},
   "source": [
    "### Summary of Best comapnies as per the top and second best Sectors"
   ]
  },
  {
   "cell_type": "markdown",
   "metadata": {},
   "source": [
    "##### USA\n",
    "\n",
    "- Best company for top sector i.e. Others is **virtustream** with funding amount 64.3m.\n",
    "- Best company for second top sector i.e. Social, Finance, Analytics, Advertising is **hotspotter** with funding amount 67.9m.\n",
    "\n",
    "##### GBR\n",
    "\n",
    "- Best company for top sector i.e. Others is **electric-cloud** with funding amount 37m.\n",
    "- Best company for second top sector i.e. Social, Finance, Analytics, Advertising is **celltick-technologies** with funding amount  37.5m.\n",
    "\n",
    "\n",
    "##### IND\n",
    "\n",
    "- Best company for top sector i.e. Others is **firstcry-com** with funding amount 39m.\n",
    "- Best company for second top sector i.e. Social, Finance, Analytics, Advertising is **manthan-systems** with funding amount 50.7m."
   ]
  },
  {
   "cell_type": "markdown",
   "metadata": {},
   "source": [
    "## Checkpoint 6: Plots"
   ]
  },
  {
   "cell_type": "code",
   "execution_count": 48,
   "metadata": {},
   "outputs": [
    {
     "name": "stdout",
     "output_type": "stream",
     "text": [
      "(88529, 9)\n"
     ]
    },
    {
     "data": {
      "text/html": [
       "<div>\n",
       "<style scoped>\n",
       "    .dataframe tbody tr th:only-of-type {\n",
       "        vertical-align: middle;\n",
       "    }\n",
       "\n",
       "    .dataframe tbody tr th {\n",
       "        vertical-align: top;\n",
       "    }\n",
       "\n",
       "    .dataframe thead th {\n",
       "        text-align: right;\n",
       "    }\n",
       "</style>\n",
       "<table border=\"1\" class=\"dataframe\">\n",
       "  <thead>\n",
       "    <tr style=\"text-align: right;\">\n",
       "      <th></th>\n",
       "      <th>permalink</th>\n",
       "      <th>funding_round_type</th>\n",
       "      <th>raised_amount_usd</th>\n",
       "      <th>name</th>\n",
       "      <th>category_list</th>\n",
       "      <th>status</th>\n",
       "      <th>country_code</th>\n",
       "      <th>primary_sector</th>\n",
       "      <th>main_sector</th>\n",
       "    </tr>\n",
       "  </thead>\n",
       "  <tbody>\n",
       "    <tr>\n",
       "      <th>0</th>\n",
       "      <td>/organization/-fame</td>\n",
       "      <td>venture</td>\n",
       "      <td>10000000.0</td>\n",
       "      <td>#fame</td>\n",
       "      <td>Media</td>\n",
       "      <td>operating</td>\n",
       "      <td>IND</td>\n",
       "      <td>media</td>\n",
       "      <td>Entertainment</td>\n",
       "    </tr>\n",
       "    <tr>\n",
       "      <th>1</th>\n",
       "      <td>/organization/-qounter</td>\n",
       "      <td>seed</td>\n",
       "      <td>700000.0</td>\n",
       "      <td>:Qounter</td>\n",
       "      <td>Application Platforms|Real Time|Social Network...</td>\n",
       "      <td>operating</td>\n",
       "      <td>USA</td>\n",
       "      <td>application platforms</td>\n",
       "      <td>News, Search and Messaging</td>\n",
       "    </tr>\n",
       "    <tr>\n",
       "      <th>2</th>\n",
       "      <td>/organization/0-6-com</td>\n",
       "      <td>venture</td>\n",
       "      <td>2000000.0</td>\n",
       "      <td>0-6.com</td>\n",
       "      <td>Curated Web</td>\n",
       "      <td>operating</td>\n",
       "      <td>CHN</td>\n",
       "      <td>curated web</td>\n",
       "      <td>News, Search and Messaging</td>\n",
       "    </tr>\n",
       "    <tr>\n",
       "      <th>3</th>\n",
       "      <td>/organization/01games-technology</td>\n",
       "      <td>undisclosed</td>\n",
       "      <td>41250.0</td>\n",
       "      <td>01Games Technology</td>\n",
       "      <td>Games</td>\n",
       "      <td>operating</td>\n",
       "      <td>HKG</td>\n",
       "      <td>games</td>\n",
       "      <td>Entertainment</td>\n",
       "    </tr>\n",
       "    <tr>\n",
       "      <th>4</th>\n",
       "      <td>/organization/0ndine-biomedical-inc</td>\n",
       "      <td>seed</td>\n",
       "      <td>43360.0</td>\n",
       "      <td>Ondine Biomedical Inc.</td>\n",
       "      <td>Biotechnology</td>\n",
       "      <td>operating</td>\n",
       "      <td>CAN</td>\n",
       "      <td>biotechnology</td>\n",
       "      <td>Cleantech / Semiconductors</td>\n",
       "    </tr>\n",
       "  </tbody>\n",
       "</table>\n",
       "</div>"
      ],
      "text/plain": [
       "                             permalink funding_round_type  raised_amount_usd  \\\n",
       "0                  /organization/-fame            venture         10000000.0   \n",
       "1               /organization/-qounter               seed           700000.0   \n",
       "2                /organization/0-6-com            venture          2000000.0   \n",
       "3     /organization/01games-technology        undisclosed            41250.0   \n",
       "4  /organization/0ndine-biomedical-inc               seed            43360.0   \n",
       "\n",
       "                     name                                      category_list  \\\n",
       "0                   #fame                                              Media   \n",
       "1                :Qounter  Application Platforms|Real Time|Social Network...   \n",
       "2                 0-6.com                                        Curated Web   \n",
       "3      01Games Technology                                              Games   \n",
       "4  Ondine Biomedical Inc.                                      Biotechnology   \n",
       "\n",
       "      status country_code         primary_sector                 main_sector  \n",
       "0  operating          IND                  media               Entertainment  \n",
       "1  operating          USA  application platforms  News, Search and Messaging  \n",
       "2  operating          CHN            curated web  News, Search and Messaging  \n",
       "3  operating          HKG                  games               Entertainment  \n",
       "4  operating          CAN          biotechnology  Cleantech / Semiconductors  "
      ]
     },
     "execution_count": 48,
     "metadata": {},
     "output_type": "execute_result"
    }
   ],
   "source": [
    "print(master_frame.shape)\n",
    "master_frame.head()"
   ]
  },
  {
   "cell_type": "code",
   "execution_count": 49,
   "metadata": {},
   "outputs": [],
   "source": [
    "df_plt1 = pd.pivot_table(data = master_frame, values='raised_amount_usd', index = 'funding_round_type', aggfunc=np.mean).reset_index()\n",
    "df_plt1.raised_amount_usd = round(df_plt1.raised_amount_usd/1000000,4)\n",
    "df_plt1 = df_plt1[df_plt1['funding_round_type'].isin(investment_type)] "
   ]
  },
  {
   "cell_type": "code",
   "execution_count": 50,
   "metadata": {},
   "outputs": [
    {
     "data": {
      "image/png": "[encoded data removed]",
      "text/plain": [
       "<Figure size 432x288 with 1 Axes>"
      ]
     },
     "metadata": {
      "needs_background": "light"
     },
     "output_type": "display_data"
    }
   ],
   "source": [
    "\n",
    "sns.barplot(data = df_plt1, x='funding_round_type', y ='raised_amount_usd')\n",
    "plt.show()"
   ]
  },
  {
   "cell_type": "code",
   "execution_count": 51,
   "metadata": {},
   "outputs": [
    {
     "data": {
      "text/plain": [
       "(47809, 9)"
      ]
     },
     "execution_count": 51,
     "metadata": {},
     "output_type": "execute_result"
    }
   ],
   "source": [
    "venture_frame = master_frame[master_frame['funding_round_type'] == 'venture']\n",
    "venture_frame.shape"
   ]
  },
  {
   "cell_type": "code",
   "execution_count": 52,
   "metadata": {},
   "outputs": [],
   "source": [
    "df_plt2 = pd.pivot_table(data = venture_frame, index='country_code', values='raised_amount_usd', aggfunc = sum).reset_index()\n",
    "df_plt2.raised_amount_usd = round(df_plt2.raised_amount_usd/1000000,4)"
   ]
  },
  {
   "cell_type": "code",
   "execution_count": 53,
   "metadata": {},
   "outputs": [
    {
     "data": {
      "image/png": "[encoded data removed]",
      "text/plain": [
       "<Figure size 432x288 with 1 Axes>"
      ]
     },
     "metadata": {
      "needs_background": "light"
     },
     "output_type": "display_data"
    }
   ],
   "source": [
    "top9.raised_amount_usd = (top9.raised_amount_usd/1000000)\n",
    "g = sns.barplot(data = top9, x='country_code', y ='raised_amount_usd')\n",
    "g.set(xlabel='Contries', ylabel='Total Funding Raised in Million $')\n",
    "plt.xticks(rotation=90)\n",
    "plt.show()"
   ]
  },
  {
   "cell_type": "markdown",
   "metadata": {},
   "source": [
    "##### A plot showing the number of investments in the top 3 sectors of the top 3 countries on one chart"
   ]
  },
  {
   "cell_type": "code",
   "execution_count": 80,
   "metadata": {},
   "outputs": [
    {
     "name": "stdout",
     "output_type": "stream",
     "text": [
      "  country_code                              main_sector  raised_amount_usd\n",
      "6          USA                                   Others             2950.0\n",
      "7          USA  Social, Finance, Analytics, Advertising             2714.0\n",
      "1          USA               Cleantech / Semiconductors             2350.0 \n",
      "\n",
      "\n",
      "  country_code                              main_sector  raised_amount_usd\n",
      "6          GBR                                   Others              147.0\n",
      "7          GBR  Social, Finance, Analytics, Advertising              133.0\n",
      "1          GBR               Cleantech / Semiconductors              130.0 \n",
      "\n",
      "\n",
      "  country_code                              main_sector  raised_amount_usd\n",
      "6          IND                                   Others              110.0\n",
      "7          IND  Social, Finance, Analytics, Advertising               60.0\n",
      "5          IND               News, Search and Messaging               52.0\n"
     ]
    }
   ],
   "source": [
    "#Dataframe containing USA top three sectors and number of funding\n",
    "USA2 = pd.pivot_table(data = USA, index = ['country_code','main_sector'],values = 'raised_amount_usd', aggfunc= len).reset_index()\n",
    "USA_top3 = USA2.sort_values(by = 'raised_amount_usd', ascending = False).head(3)\n",
    "print(USA_top3,\"\\n\\n\")\n",
    "\n",
    "#Dataframe containing GBR top three sectors and number of funding\n",
    "GBR2 = pd.pivot_table(data = GBR, index = ['country_code','main_sector'],values = 'raised_amount_usd', aggfunc= len).reset_index()\n",
    "GBR_top3 = GBR2.sort_values(by = 'raised_amount_usd', ascending = False).head(3)\n",
    "print(GBR_top3,\"\\n\\n\")\n",
    "\n",
    "#Dataframe containing USA top three sectors and number of funding\n",
    "IND2 = pd.pivot_table(data = IND, index = ['country_code','main_sector'],values = 'raised_amount_usd', aggfunc= len).reset_index()\n",
    "IND_top3 = IND2.sort_values(by = 'raised_amount_usd', ascending = False).head(3)\n",
    "print(IND_top3)"
   ]
  },
  {
   "cell_type": "code",
   "execution_count": 98,
   "metadata": {},
   "outputs": [],
   "source": [
    "#merging the results of pivot table in one df to draw the plot\n",
    "USA_GBR = pd.merge(USA_top3, GBR_top3, how = 'outer')\n",
    "USA_GBR_IND = pd.merge(USA_GBR, IND_top3, how='outer')"
   ]
  },
  {
   "cell_type": "code",
   "execution_count": 102,
   "metadata": {},
   "outputs": [
    {
     "data": {
      "image/png": "[encoded data removed]",
      "text/plain": [
       "<Figure size 729.25x504 with 1 Axes>"
      ]
     },
     "metadata": {
      "needs_background": "light"
     },
     "output_type": "display_data"
    }
   ],
   "source": [
    "fig = sns.catplot(data = USA_GBR_IND, x='country_code', y ='raised_amount_usd', hue='main_sector', kind='bar', height = 7)\n",
    "fig.set_axis_labels('Top Sectors', 'Number of Investments')\n",
    "plt.show()"
   ]
  },
  {
   "cell_type": "code",
   "execution_count": null,
   "metadata": {},
   "outputs": [],
   "source": []
  }
 ],
 "metadata": {
  "kernelspec": {
   "display_name": "Python 3",
   "language": "python",
   "name": "python3"
  },
  "language_info": {
   "codemirror_mode": {
    "name": "ipython",
    "version": 3
   },
   "file_extension": ".py",
   "mimetype": "text/x-python",
   "name": "python",
   "nbconvert_exporter": "python",
   "pygments_lexer": "ipython3",
   "version": "3.8.5"
  }
 },
 "nbformat": 4,
 "nbformat_minor": 4
}
